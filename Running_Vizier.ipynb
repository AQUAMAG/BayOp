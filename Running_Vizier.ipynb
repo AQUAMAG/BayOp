{
 "cells": [
  {
   "cell_type": "markdown",
   "metadata": {
    "id": "Xgqk7eHswDpB"
   },
   "source": [
    "[![Open in Colab](https://colab.research.google.com/assets/colab-badge.svg)](https://colab.research.google.com/github/google/vizier/blob/main/docs/guides/user/running_vizier.ipynb)\n",
    "\n",
    "# Vizier Basics\n",
    "Below, we provide examples of how to:\n",
    "\n",
    "*   Define a problem statement and study configuration.\n",
    "*   Start a client.\n",
    "*   (Optionally) Connect the client to a server.\n",
    "*   Perform a typical tuning loop.\n",
    "*   Use other client APIs."
   ]
  },
  {
   "cell_type": "markdown",
   "metadata": {
    "id": "4TsmlBbCu8Aw"
   },
   "source": []
  },
  {
   "cell_type": "markdown",
   "metadata": {
    "id": "O5RnMytPR8Aw"
   },
   "source": [
    "## Installation and reference imports"
   ]
  },
  {
   "cell_type": "code",
   "execution_count": null,
   "metadata": {
    "id": "kSG8XlxLvCJO"
   },
   "outputs": [
    {
     "name": "stdout",
     "output_type": "stream",
     "text": [
      "Requirement already satisfied: google-vizier[jax] in /home/awkwabear/anaconda3/envs/bayop/lib/python3.10/site-packages (0.1.20)\n",
      "Requirement already satisfied: attrs==23.1.0 in /home/awkwabear/anaconda3/envs/bayop/lib/python3.10/site-packages (from google-vizier[jax]) (23.1.0)\n",
      "Requirement already satisfied: absl-py>=1.0.0 in /home/awkwabear/anaconda3/envs/bayop/lib/python3.10/site-packages (from google-vizier[jax]) (2.1.0)\n",
      "Requirement already satisfied: numpy<2.0,>=1.21.5 in /home/awkwabear/anaconda3/envs/bayop/lib/python3.10/site-packages (from google-vizier[jax]) (1.26.4)\n",
      "Requirement already satisfied: protobuf>=3.6 in /home/awkwabear/anaconda3/envs/bayop/lib/python3.10/site-packages (from google-vizier[jax]) (5.28.3)\n",
      "Requirement already satisfied: portpicker>=1.3.1 in /home/awkwabear/anaconda3/envs/bayop/lib/python3.10/site-packages (from google-vizier[jax]) (1.6.0)\n",
      "Requirement already satisfied: grpcio>=1.35.0 in /home/awkwabear/anaconda3/envs/bayop/lib/python3.10/site-packages (from google-vizier[jax]) (1.68.0)\n",
      "Requirement already satisfied: grpcio-tools>=1.35.0 in /home/awkwabear/anaconda3/envs/bayop/lib/python3.10/site-packages (from google-vizier[jax]) (1.68.0)\n",
      "Requirement already satisfied: googleapis-common-protos>=1.56.4 in /home/awkwabear/anaconda3/envs/bayop/lib/python3.10/site-packages (from google-vizier[jax]) (1.66.0)\n",
      "Requirement already satisfied: sqlalchemy>=1.4 in /home/awkwabear/anaconda3/envs/bayop/lib/python3.10/site-packages (from google-vizier[jax]) (2.0.36)\n",
      "Requirement already satisfied: jax>=0.4.34 in /home/awkwabear/anaconda3/envs/bayop/lib/python3.10/site-packages (from google-vizier[jax]) (0.4.35)\n",
      "Requirement already satisfied: jaxlib>=0.4.34 in /home/awkwabear/anaconda3/envs/bayop/lib/python3.10/site-packages (from google-vizier[jax]) (0.4.35)\n",
      "Requirement already satisfied: jaxopt>=0.8.3 in /home/awkwabear/anaconda3/envs/bayop/lib/python3.10/site-packages (from google-vizier[jax]) (0.8.3)\n",
      "Requirement already satisfied: flax>=0.10.0 in /home/awkwabear/anaconda3/envs/bayop/lib/python3.10/site-packages (from google-vizier[jax]) (0.10.2)\n",
      "Requirement already satisfied: optax>=0.2.3 in /home/awkwabear/anaconda3/envs/bayop/lib/python3.10/site-packages (from google-vizier[jax]) (0.2.4)\n",
      "Requirement already satisfied: chex>=0.1.87 in /home/awkwabear/anaconda3/envs/bayop/lib/python3.10/site-packages (from google-vizier[jax]) (0.1.87)\n",
      "Requirement already satisfied: tfp-nightly[jax] in /home/awkwabear/anaconda3/envs/bayop/lib/python3.10/site-packages (from google-vizier[jax]) (0.26.0.dev20241120)\n",
      "Requirement already satisfied: equinox==0.11.7 in /home/awkwabear/anaconda3/envs/bayop/lib/python3.10/site-packages (from google-vizier[jax]) (0.11.7)\n",
      "Requirement already satisfied: jaxtyping>=0.2.34 in /home/awkwabear/anaconda3/envs/bayop/lib/python3.10/site-packages (from google-vizier[jax]) (0.2.36)\n",
      "Requirement already satisfied: typeguard<=2.13.3 in /home/awkwabear/anaconda3/envs/bayop/lib/python3.10/site-packages (from google-vizier[jax]) (2.13.3)\n",
      "Requirement already satisfied: typing-extensions>=4.5.0 in /home/awkwabear/anaconda3/envs/bayop/lib/python3.10/site-packages (from equinox==0.11.7->google-vizier[jax]) (4.12.2)\n",
      "Requirement already satisfied: toolz>=0.9.0 in /home/awkwabear/anaconda3/envs/bayop/lib/python3.10/site-packages (from chex>=0.1.87->google-vizier[jax]) (1.0.0)\n",
      "Requirement already satisfied: msgpack in /home/awkwabear/anaconda3/envs/bayop/lib/python3.10/site-packages (from flax>=0.10.0->google-vizier[jax]) (1.1.0)\n",
      "Requirement already satisfied: orbax-checkpoint in /home/awkwabear/anaconda3/envs/bayop/lib/python3.10/site-packages (from flax>=0.10.0->google-vizier[jax]) (0.9.1)\n",
      "Requirement already satisfied: tensorstore in /home/awkwabear/anaconda3/envs/bayop/lib/python3.10/site-packages (from flax>=0.10.0->google-vizier[jax]) (0.1.68)\n",
      "Requirement already satisfied: rich>=11.1 in /home/awkwabear/anaconda3/envs/bayop/lib/python3.10/site-packages (from flax>=0.10.0->google-vizier[jax]) (13.9.4)\n",
      "Requirement already satisfied: PyYAML>=5.4.1 in /home/awkwabear/anaconda3/envs/bayop/lib/python3.10/site-packages (from flax>=0.10.0->google-vizier[jax]) (6.0.2)\n",
      "Requirement already satisfied: setuptools in /home/awkwabear/anaconda3/envs/bayop/lib/python3.10/site-packages (from grpcio-tools>=1.35.0->google-vizier[jax]) (75.1.0)\n",
      "Requirement already satisfied: ml-dtypes>=0.4.0 in /home/awkwabear/anaconda3/envs/bayop/lib/python3.10/site-packages (from jax>=0.4.34->google-vizier[jax]) (0.4.1)\n",
      "Requirement already satisfied: opt-einsum in /home/awkwabear/anaconda3/envs/bayop/lib/python3.10/site-packages (from jax>=0.4.34->google-vizier[jax]) (3.4.0)\n",
      "Requirement already satisfied: scipy>=1.10 in /home/awkwabear/anaconda3/envs/bayop/lib/python3.10/site-packages (from jax>=0.4.34->google-vizier[jax]) (1.14.1)\n",
      "Requirement already satisfied: etils[epy] in /home/awkwabear/anaconda3/envs/bayop/lib/python3.10/site-packages (from optax>=0.2.3->google-vizier[jax]) (1.10.0)\n",
      "Requirement already satisfied: psutil in /home/awkwabear/anaconda3/envs/bayop/lib/python3.10/site-packages (from portpicker>=1.3.1->google-vizier[jax]) (6.1.0)\n",
      "Requirement already satisfied: greenlet!=0.4.17 in /home/awkwabear/anaconda3/envs/bayop/lib/python3.10/site-packages (from sqlalchemy>=1.4->google-vizier[jax]) (3.1.1)\n",
      "Requirement already satisfied: six>=1.10.0 in /home/awkwabear/anaconda3/envs/bayop/lib/python3.10/site-packages (from tfp-nightly[jax]; extra == \"jax\"->google-vizier[jax]) (1.16.0)\n",
      "Requirement already satisfied: decorator in /home/awkwabear/anaconda3/envs/bayop/lib/python3.10/site-packages (from tfp-nightly[jax]; extra == \"jax\"->google-vizier[jax]) (5.1.1)\n",
      "Requirement already satisfied: cloudpickle>=1.3 in /home/awkwabear/anaconda3/envs/bayop/lib/python3.10/site-packages (from tfp-nightly[jax]; extra == \"jax\"->google-vizier[jax]) (3.1.0)\n",
      "Requirement already satisfied: gast>=0.3.2 in /home/awkwabear/anaconda3/envs/bayop/lib/python3.10/site-packages (from tfp-nightly[jax]; extra == \"jax\"->google-vizier[jax]) (0.6.0)\n",
      "Requirement already satisfied: dm-tree in /home/awkwabear/anaconda3/envs/bayop/lib/python3.10/site-packages (from tfp-nightly[jax]; extra == \"jax\"->google-vizier[jax]) (0.1.8)\n",
      "Requirement already satisfied: markdown-it-py>=2.2.0 in /home/awkwabear/anaconda3/envs/bayop/lib/python3.10/site-packages (from rich>=11.1->flax>=0.10.0->google-vizier[jax]) (3.0.0)\n",
      "Requirement already satisfied: pygments<3.0.0,>=2.13.0 in /home/awkwabear/anaconda3/envs/bayop/lib/python3.10/site-packages (from rich>=11.1->flax>=0.10.0->google-vizier[jax]) (2.18.0)\n",
      "Requirement already satisfied: nest_asyncio in /home/awkwabear/anaconda3/envs/bayop/lib/python3.10/site-packages (from orbax-checkpoint->flax>=0.10.0->google-vizier[jax]) (1.6.0)\n",
      "Requirement already satisfied: humanize in /home/awkwabear/anaconda3/envs/bayop/lib/python3.10/site-packages (from orbax-checkpoint->flax>=0.10.0->google-vizier[jax]) (4.11.0)\n",
      "Requirement already satisfied: mdurl~=0.1 in /home/awkwabear/anaconda3/envs/bayop/lib/python3.10/site-packages (from markdown-it-py>=2.2.0->rich>=11.1->flax>=0.10.0->google-vizier[jax]) (0.1.2)\n",
      "Requirement already satisfied: fsspec in /home/awkwabear/anaconda3/envs/bayop/lib/python3.10/site-packages (from etils[epy]->optax>=0.2.3->google-vizier[jax]) (2024.10.0)\n",
      "Requirement already satisfied: importlib_resources in /home/awkwabear/anaconda3/envs/bayop/lib/python3.10/site-packages (from etils[epy]->optax>=0.2.3->google-vizier[jax]) (6.4.5)\n",
      "Requirement already satisfied: zipp in /home/awkwabear/anaconda3/envs/bayop/lib/python3.10/site-packages (from etils[epy]->optax>=0.2.3->google-vizier[jax]) (3.21.0)\n"
     ]
    }
   ],
   "source": [
    "%pip install 'google-vizier[jax]'"
   ]
  },
  {
   "cell_type": "code",
   "execution_count": 4,
   "metadata": {
    "id": "fzYr0bPYSHfQ"
   },
   "outputs": [],
   "source": [
    "from vizier import service\n",
    "from vizier.service import clients\n",
    "from vizier.service import pyvizier as vz\n",
    "from vizier.service import servers"
   ]
  },
  {
   "cell_type": "markdown",
   "metadata": {
    "id": "qJ1kRiHaKOVt"
   },
   "source": [
    "## Setting up the problem statement\n",
    "Here we setup the problem statement, which contains information about the search space and the metrics to optimize."
   ]
  },
  {
   "cell_type": "code",
   "execution_count": 5,
   "metadata": {
    "id": "zX2G3_pcKYdG"
   },
   "outputs": [],
   "source": [
    "problem = vz.ProblemStatement()\n",
    "problem.search_space.root.add_float_param('x', 0.0, 1.0)\n",
    "problem.search_space.root.add_float_param('y', 0.0, 1.0)\n",
    "problem.metric_information.append(\n",
    "    vz.MetricInformation(\n",
    "        name='maximize_metric', goal=vz.ObjectiveMetricGoal.MAXIMIZE))\n",
    "\n",
    "\n",
    "def evaluate(x: float, y: float) -> float:\n",
    "  return x**2 - y**2"
   ]
  },
  {
   "cell_type": "markdown",
   "metadata": {
    "id": "GjDXKSIPKoex"
   },
   "source": [
    "## Setting up the study configuration\n",
    "The study configuration contains additional information, such as the algorithm to use and level of noise that we think the objective will have."
   ]
  },
  {
   "cell_type": "code",
   "execution_count": 6,
   "metadata": {
    "id": "NlSWnX1wKrjZ"
   },
   "outputs": [],
   "source": [
    "study_config = vz.StudyConfig.from_problem(problem)\n",
    "study_config.algorithm = 'DEFAULT'"
   ]
  },
  {
   "cell_type": "markdown",
   "metadata": {
    "id": "5e2B91UvZYIM"
   },
   "source": [
    "## Setting up the client\n",
    "Starts a `study_client`, which can be either in **local mode (default)** or **distributed mode.**\n",
    "\n",
    "**Local Mode:** The client has no `endpoint` set, and will implicitly create a local Vizier Service which will be shared across other clients in the same Python process. Studies will then be stored locally in a SQL database file located at `service.VIZIER_DB_PATH`."
   ]
  },
  {
   "cell_type": "code",
   "execution_count": 7,
   "metadata": {
    "id": "X2AR4OmXX3in"
   },
   "outputs": [
    {
     "name": "stderr",
     "output_type": "stream",
     "text": [
      "WARNING:absl:Python 3.8+ is required in this case.\n"
     ]
    },
    {
     "name": "stdout",
     "output_type": "stream",
     "text": [
      "Local SQL database file located at:  /home/awkwabear/anaconda3/envs/bayop/lib/python3.10/site-packages/vizier/_src/service/vizier.db\n"
     ]
    }
   ],
   "source": [
    "study_client = clients.Study.from_study_config(study_config, owner='owner', study_id='example_study_id')\n",
    "print('Local SQL database file located at: ', service.VIZIER_DB_PATH)"
   ]
  },
  {
   "cell_type": "markdown",
   "metadata": {
    "id": "w3m48cPsXcxD"
   },
   "source": [
    "**Distributed mode:** The service may be explicitly created, wrapped as a server in a separate process to accept requests from all other client processses. Details such as the `database_url`, `port`, `policy_factory`, etc. can be configured in the server's initializer.\n",
    "\n",
    "All client processes (on a single machine or over multiple machines) will connect to this server via a globally specified `endpoint`."
   ]
  },
  {
   "cell_type": "code",
   "execution_count": 8,
   "metadata": {
    "id": "V6ef6OfMXdpz"
   },
   "outputs": [],
   "source": [
    "server = servers.DefaultVizierServer()  # Ideally created on a separate process such as a server machine.\n",
    "clients.environment_variables.server_endpoint = server.endpoint  # Server address.\n",
    "study_client = clients.Study.from_study_config(study_config, owner='owner', study_id = 'example_study_id')  # Now connects to the explicitly created server."
   ]
  },
  {
   "cell_type": "markdown",
   "metadata": {
    "id": "Z0Ycmc-exzqm"
   },
   "source": [
    "## Client Parallelization\n",
    "Regardless of whether the setup is local or distributed, we may simultaneously create multiple clients to work on the same study, useful for parallelizing evaluation workload."
   ]
  },
  {
   "cell_type": "code",
   "execution_count": 9,
   "metadata": {
    "id": "VlfFb5t3yILl"
   },
   "outputs": [],
   "source": [
    "another_study_client = clients.Study.from_resource_name(study_client.resource_name)"
   ]
  },
  {
   "cell_type": "markdown",
   "metadata": {
    "id": "Vh3eNsrAdaMJ"
   },
   "source": [
    "## Obtaining suggestions\n",
    "Start requesting suggestions from the server, for evaluating objectives. Suggestions can be made sequentially (`count=1`) or in batches (`count>1`)."
   ]
  },
  {
   "cell_type": "code",
   "execution_count": 10,
   "metadata": {
    "id": "BnFKc7FadkJV"
   },
   "outputs": [
    {
     "name": "stderr",
     "output_type": "stream",
     "text": [
      "2024-11-20 17:10:47.412004: E external/local_xla/xla/stream_executor/cuda/cuda_fft.cc:477] Unable to register cuFFT factory: Attempting to register factory for plugin cuFFT when one has already been registered\n",
      "WARNING: All log messages before absl::InitializeLog() is called are written to STDERR\n",
      "E0000 00:00:1732158647.421837   94591 cuda_dnn.cc:8310] Unable to register cuDNN factory: Attempting to register factory for plugin cuDNN when one has already been registered\n",
      "E0000 00:00:1732158647.424866   94591 cuda_blas.cc:1418] Unable to register cuBLAS factory: Attempting to register factory for plugin cuBLAS when one has already been registered\n"
     ]
    },
    {
     "name": "stderr",
     "output_type": "stream",
     "text": [
      "WARNING:jax._src.xla_bridge:An NVIDIA GPU may be present on this machine, but a CUDA-enabled jaxlib is not installed. Falling back to cpu.\n"
     ]
    },
    {
     "name": "stdout",
     "output_type": "stream",
     "text": [
      "Iteration 0, suggestion (0.5,0.5) led to objective value 0.0.\n",
      "Iteration 1, suggestion (0.28000000000000086,0.71942713626663) led to objective value -0.4391754043968038.\n",
      "Iteration 2, suggestion (0.7399999999999984,0.7396063871241385) led to objective value 0.000582392125176634.\n",
      "Iteration 3, suggestion (0.9999999999999983,0.48014892912893015) led to objective value 0.7694570058563382.\n",
      "Iteration 4, suggestion (0.9999905103930361,0.2001489291289329) led to objective value 0.9599214270446662.\n",
      "Iteration 5, suggestion (1.0,0.0) led to objective value 1.0.\n",
      "Iteration 6, suggestion (1.0,6.146285532821177e-15) led to objective value 1.0.\n",
      "Iteration 7, suggestion (0.6681539118469481,0.0) led to objective value 0.44642964991637923.\n",
      "Iteration 8, suggestion (1.0,0.05073318898474313) led to objective value 0.9974261435354383.\n",
      "Iteration 9, suggestion (0.9455716267534012,0.0) led to objective value 0.8941057013210735.\n"
     ]
    }
   ],
   "source": [
    "for i in range(10):\n",
    "  suggestions = study_client.suggest(count=1)\n",
    "  for suggestion in suggestions:\n",
    "    x = suggestion.parameters['x']\n",
    "    y = suggestion.parameters['y']\n",
    "    objective = evaluate(x, y)\n",
    "    print(f'Iteration {i}, suggestion ({x},{y}) led to objective value {objective}.')\n",
    "    final_measurement = vz.Measurement({'maximize_metric': objective})\n",
    "    suggestion.complete(final_measurement)"
   ]
  },
  {
   "cell_type": "markdown",
   "metadata": {
    "id": "V_pbH38ZfMVo"
   },
   "source": [
    "## Find optimal trial\n",
    "Find the best objective so far, with corresponding suggestion value. For multiobjective cases, there may be multiple outputs of `optimal_trials()`, all corresponding to a Pareto-optimal curve."
   ]
  },
  {
   "cell_type": "code",
   "execution_count": 11,
   "metadata": {
    "id": "vTKVZHVtfXJc"
   },
   "outputs": [
    {
     "name": "stdout",
     "output_type": "stream",
     "text": [
      "Optimal Trial Suggestion and Objective: ParameterDict(_items={'x': 1.0, 'y': 0.0}) Measurement(metrics={'maximize_metric': Metric(value=1.0, std=None)}, elapsed_secs=0.0, steps=0, checkpoint_path='')\n",
      "Optimal Trial Suggestion and Objective: ParameterDict(_items={'x': 1.0, 'y': 6.146285532821177e-15}) Measurement(metrics={'maximize_metric': Metric(value=1.0, std=None)}, elapsed_secs=0.0, steps=0, checkpoint_path='')\n"
     ]
    }
   ],
   "source": [
    "for optimal_trial in study_client.optimal_trials():\n",
    "  optimal_trial = optimal_trial.materialize()\n",
    "  print(\"Optimal Trial Suggestion and Objective:\", optimal_trial.parameters,\n",
    "        optimal_trial.final_measurement)"
   ]
  },
  {
   "cell_type": "markdown",
   "metadata": {
    "id": "TPJD47ipbsQi"
   },
   "source": [
    "## Other client commands\n",
    "The `study_client` can also send other requests, such as the following:"
   ]
  },
  {
   "cell_type": "code",
   "execution_count": 12,
   "metadata": {
    "id": "vcXrVLuMb201"
   },
   "outputs": [
    {
     "data": {
      "text/plain": [
       "TrialIterable(_iterable_factory=<function Study.trials.<locals>.iterable_factory at 0x7dce7441d990>, _client=VizierClient(_study_resource_name='owners/owner/studies/example_study_id', _client_id='unused_client_id'))"
      ]
     },
     "execution_count": 12,
     "metadata": {},
     "output_type": "execute_result"
    }
   ],
   "source": [
    "study_client.get_trial(1)  # Get the first trial.\n",
    "study_client.trials()  # Get all trials so far.\n",
    "\n",
    "# Obtain only the completed trials.\n",
    "trial_filter = vz.TrialFilter(status=[vz.TrialStatus.COMPLETED])\n",
    "study_client.trials(trial_filter=trial_filter)"
   ]
  }
 ],
 "metadata": {
  "colab": {
   "name": "Running Vizier.ipynb",
   "private_outputs": true,
   "provenance": []
  },
  "kernelspec": {
   "display_name": "bayop",
   "language": "python",
   "name": "python3"
  },
  "language_info": {
   "codemirror_mode": {
    "name": "ipython",
    "version": 3
   },
   "file_extension": ".py",
   "mimetype": "text/x-python",
   "name": "python",
   "nbconvert_exporter": "python",
   "pygments_lexer": "ipython3",
   "version": "3.10.15"
  }
 },
 "nbformat": 4,
 "nbformat_minor": 0
}
