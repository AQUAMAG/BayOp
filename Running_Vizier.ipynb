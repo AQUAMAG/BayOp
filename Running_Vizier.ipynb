{
 "cells": [
  {
   "cell_type": "markdown",
   "metadata": {},
   "source": [
    "# Initial Environment setup\n",
    "- After opening this folder in VS Code:\n",
    "    - Press ``Ctrl + Shift + ` `` to bring up the terminal\n",
    "- Run the following command:\n",
    "    - `conda env create -f environment.yaml`\n",
    "    - This will have Conda install environment and setup [Google Vizier's Open Source Optimizer](https://github.com/google/vizier)"
   ]
  },
  {
   "cell_type": "markdown",
   "metadata": {
    "id": "Xgqk7eHswDpB"
   },
   "source": [
    "# Vizier Basics\n",
    "Below, we provide examples of how to:\n",
    "\n",
    "*   Define a problem statement and study configuration.\n",
    "*   Start a client.\n",
    "*   (Optionally) Connect the client to a server.\n",
    "*   Perform a typical tuning loop.\n",
    "*   Use other client APIs."
   ]
  },
  {
   "cell_type": "code",
   "execution_count": 13,
   "metadata": {
    "id": "fzYr0bPYSHfQ"
   },
   "outputs": [],
   "source": [
    "from vizier import service\n",
    "from vizier.service import clients\n",
    "from vizier.service import pyvizier as vz\n",
    "from vizier.service import servers"
   ]
  },
  {
   "cell_type": "markdown",
   "metadata": {
    "id": "qJ1kRiHaKOVt"
   },
   "source": [
    "## Setting up the problem statement\n",
    "Here we setup the problem statement, which contains information about the search space and the metrics to optimize."
   ]
  },
  {
   "cell_type": "code",
   "execution_count": 32,
   "metadata": {
    "id": "zX2G3_pcKYdG"
   },
   "outputs": [],
   "source": [
    "problem = vz.ProblemStatement()\n",
    "problem.search_space.root.add_float_param('w', 0.0, 1.0)\n",
    "problem.search_space.root.add_float_param('x', 0.0, 1.0)\n",
    "problem.search_space.root.add_float_param('y', 0.0, 1.0)\n",
    "problem.search_space.root.add_float_param('z', 0.0, 1.0)\n",
    "problem.metric_information.append(\n",
    "    vz.MetricInformation(\n",
    "        name='maximize_metric', goal=vz.ObjectiveMetricGoal.MAXIMIZE))\n",
    "\n",
    "\n",
    "def evaluate(a: float, b: float, c: float, d: float) -> int:\n",
    "  return -a * (2*b)**2 - (c - (1*d))**2"
   ]
  },
  {
   "cell_type": "markdown",
   "metadata": {
    "id": "GjDXKSIPKoex"
   },
   "source": [
    "## Setting up the study configuration\n",
    "The study configuration contains additional information, such as the algorithm to use and level of noise that we think the objective will have."
   ]
  },
  {
   "cell_type": "code",
   "execution_count": 33,
   "metadata": {
    "id": "NlSWnX1wKrjZ"
   },
   "outputs": [],
   "source": [
    "study_config = vz.StudyConfig.from_problem(problem)\n",
    "study_config.algorithm = 'GP_UCB_PE'"
   ]
  },
  {
   "cell_type": "markdown",
   "metadata": {
    "id": "5e2B91UvZYIM"
   },
   "source": [
    "## Setting up the client\n",
    "Starts a `study_client`, which can be either in **local mode (default)** or **distributed mode.**\n",
    "\n",
    "**Local Mode:** The client has no `endpoint` set, and will implicitly create a local Vizier Service which will be shared across other clients in the same Python process. Studies will then be stored locally in a SQL database file located at `service.VIZIER_DB_PATH`."
   ]
  },
  {
   "cell_type": "code",
   "execution_count": 34,
   "metadata": {
    "id": "X2AR4OmXX3in"
   },
   "outputs": [
    {
     "name": "stderr",
     "output_type": "stream",
     "text": [
      "WARNING:absl:Python 3.8+ is required in this case.\n"
     ]
    },
    {
     "name": "stdout",
     "output_type": "stream",
     "text": [
      "Local SQL database file located at:  /home/awkwabear/anaconda3/envs/bayop/lib/python3.10/site-packages/vizier/_src/service/vizier.db\n"
     ]
    }
   ],
   "source": [
    "study_client = clients.Study.from_study_config(study_config, owner='owner', study_id='example_study_id')\n",
    "print('Local SQL database file located at: ', service.VIZIER_DB_PATH)"
   ]
  },
  {
   "cell_type": "markdown",
   "metadata": {
    "id": "w3m48cPsXcxD"
   },
   "source": [
    "**Distributed mode:** The service may be explicitly created, wrapped as a server in a separate process to accept requests from all other client processses. Details such as the `database_url`, `port`, `policy_factory`, etc. can be configured in the server's initializer.\n",
    "\n",
    "All client processes (on a single machine or over multiple machines) will connect to this server via a globally specified `endpoint`."
   ]
  },
  {
   "cell_type": "code",
   "execution_count": 35,
   "metadata": {
    "id": "V6ef6OfMXdpz"
   },
   "outputs": [],
   "source": [
    "# server = servers.DefaultVizierServer()  # Ideally created on a separate process such as a server machine.\n",
    "# clients.environment_variables.server_endpoint = server.endpoint  # Server address.\n",
    "# study_client = clients.Study.from_study_config(study_config, owner='owner', study_id = 'example_study_id')  # Now connects to the explicitly created server."
   ]
  },
  {
   "cell_type": "markdown",
   "metadata": {
    "id": "Z0Ycmc-exzqm"
   },
   "source": [
    "## Client Parallelization\n",
    "Regardless of whether the setup is local or distributed, we may simultaneously create multiple clients to work on the same study, useful for parallelizing evaluation workload."
   ]
  },
  {
   "cell_type": "code",
   "execution_count": 36,
   "metadata": {
    "id": "VlfFb5t3yILl"
   },
   "outputs": [
    {
     "name": "stderr",
     "output_type": "stream",
     "text": [
      "WARNING:absl:Python 3.8+ is required in this case.\n"
     ]
    }
   ],
   "source": [
    "another_study_client = clients.Study.from_resource_name(study_client.resource_name)"
   ]
  },
  {
   "cell_type": "markdown",
   "metadata": {
    "id": "Vh3eNsrAdaMJ"
   },
   "source": [
    "## Obtaining suggestions\n",
    "Start requesting suggestions from the server, for evaluating objectives. Suggestions can be made sequentially (`count=1`) or in batches (`count>1`)."
   ]
  },
  {
   "cell_type": "code",
   "execution_count": 38,
   "metadata": {},
   "outputs": [
    {
     "name": "stdout",
     "output_type": "stream",
     "text": [
      "{'x': 0.9999999999999991, 'y': 5.975824403371409e-09}\n"
     ]
    }
   ],
   "source": [
    "print(suggestion.parameters)"
   ]
  },
  {
   "cell_type": "code",
   "execution_count": 41,
   "metadata": {
    "id": "BnFKc7FadkJV"
   },
   "outputs": [
    {
     "name": "stdout",
     "output_type": "stream",
     "text": [
      "{'x': 0.9999999999999991, 'y': 5.975824403371409e-09}\n",
      "{'x': 0.9999999999999991, 'y': 5.975824403371409e-09}\n",
      "{'x': 0.9999999999999991, 'y': 5.975824403371409e-09}\n",
      "{'x': 0.9999999999999991, 'y': 5.975824403371409e-09}\n",
      "{'x': 0.9999999999999991, 'y': 5.975824403371409e-09}\n",
      "{'x': 0.9999999999999991, 'y': 5.975824403371409e-09}\n",
      "{'x': 0.9999999999999991, 'y': 5.975824403371409e-09}\n",
      "{'x': 0.9999999999999991, 'y': 5.975824403371409e-09}\n",
      "{'x': 0.9999999999999991, 'y': 5.975824403371409e-09}\n",
      "{'x': 0.9999999999999991, 'y': 5.975824403371409e-09}\n"
     ]
    }
   ],
   "source": [
    "for i in range(10):\n",
    "  suggestions = study_client.suggest(count=5)\n",
    "  print(suggestion.parameters)\n",
    "  # for suggestion in suggestions:\n",
    "  #   a = suggestion.parameters['a']\n",
    "  #   b = suggestion.parameters['b']\n",
    "  #   c = suggestion.parameters['c']\n",
    "  #   d = suggestion.parameters['d']\n",
    "  #   objective = evaluate(a, b, c, d)\n",
    "  #   print(f'Iteration {i}, suggestion ({a},{b},{c},{d}) led to objective value {objective}.')\n",
    "  #   final_measurement = vz.Measurement({'maximize_metric': objective})\n",
    "  #   suggestion.complete(final_measurement)"
   ]
  },
  {
   "cell_type": "markdown",
   "metadata": {
    "id": "V_pbH38ZfMVo"
   },
   "source": [
    "## Find optimal trial\n",
    "Find the best objective so far, with corresponding suggestion value. For multiobjective cases, there may be multiple outputs of `optimal_trials()`, all corresponding to a Pareto-optimal curve."
   ]
  },
  {
   "cell_type": "code",
   "execution_count": null,
   "metadata": {
    "id": "vTKVZHVtfXJc"
   },
   "outputs": [],
   "source": [
    "for optimal_trial in study_client.optimal_trials():\n",
    "  optimal_trial = optimal_trial.materialize()\n",
    "  print(\"Optimal Trial Suggestion and Objective:\", optimal_trial.parameters,\n",
    "        optimal_trial.final_measurement)"
   ]
  },
  {
   "cell_type": "markdown",
   "metadata": {
    "id": "TPJD47ipbsQi"
   },
   "source": [
    "## Other client commands\n",
    "The `study_client` can also send other requests, such as the following:"
   ]
  },
  {
   "cell_type": "code",
   "execution_count": null,
   "metadata": {
    "id": "vcXrVLuMb201"
   },
   "outputs": [],
   "source": [
    "study_client.get_trial(1)  # Get the first trial.\n",
    "study_client.trials()  # Get all trials so far.\n",
    "\n",
    "# Obtain only the completed trials.\n",
    "trial_filter = vz.TrialFilter(status=[vz.TrialStatus.COMPLETED])\n",
    "study_client.trials(trial_filter=trial_filter)"
   ]
  }
 ],
 "metadata": {
  "colab": {
   "name": "Running Vizier.ipynb",
   "private_outputs": true,
   "provenance": []
  },
  "kernelspec": {
   "display_name": "bayop",
   "language": "python",
   "name": "python3"
  },
  "language_info": {
   "codemirror_mode": {
    "name": "ipython",
    "version": 3
   },
   "file_extension": ".py",
   "mimetype": "text/x-python",
   "name": "python",
   "nbconvert_exporter": "python",
   "pygments_lexer": "ipython3",
   "version": "3.10.15"
  }
 },
 "nbformat": 4,
 "nbformat_minor": 0
}
