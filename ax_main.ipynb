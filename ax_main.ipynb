{
 "cells": [
  {
   "cell_type": "code",
   "execution_count": null,
   "id": "55419ef8",
   "metadata": {},
   "outputs": [],
   "source": [
    "# Import modules\n",
    "from ax.api.client import Client\n",
    "from ax.api.configs import  RangeParameterConfig, ChoiceParameterConfig\n",
    "import json\n"
   ]
  },
  {
   "cell_type": "code",
   "execution_count": null,
   "id": "14099dd8",
   "metadata": {},
   "outputs": [],
   "source": [
    "# TODO modify config.json file to use Ax conventions for parameters\n",
    "# TODO make the following functions\n",
    "    # 1. read in excel spreadsheet and translate to JSON with variable names\n",
    "    # 2. read in JSON and produce Ax parameters\n"
   ]
  },
  {
   "cell_type": "code",
   "execution_count": null,
   "id": "44b94d97",
   "metadata": {},
   "outputs": [],
   "source": [
    "# read in the config file and set up parameters\n",
    "\n",
    "# Bounds and configs are loaded in config file (config.json)\n",
    "configPath = 'config.json'\n",
    "\n",
    "# Load the full config data file\n",
    "try:\n",
    "    # Load the full config data file\n",
    "    with open(configPath, 'r') as f:\n",
    "        config = json.load(f)\n",
    "        print(f\"Loaded config: file from {configPath}\")\n",
    "\n",
    "    # Extract bounds for parameters\n",
    "    pbounds = config['pbounds']\n",
    "\n",
    "    ## Other parameters that can be loaded via config\n",
    "    # optimizer_settings = config['optimizer_settings']\n",
    "    # model_params = config['model_parameters']\n",
    "\n",
    "    # Print usage\n",
    "    print(\"Loaded config parameters:\")\n",
    "    print(json.dumps(config, indent=4))\n",
    "\n",
    "\n",
    "except FileNotFoundError:\n",
    "    print(f\"Error: Could not find the config file at '{configPath}'. Please check the path and try again.\")\n",
    "\n",
    "except json.JSONDecodeError as e:\n",
    "    print(f\"Error: Failed to parse JSON in config file '{configPath}': {e}\")\n",
    "\n",
    "except Exception as e:\n",
    "    print(f\"An unexpected error occurred while loading the config file: {e}\")\n",
    "\n"
   ]
  },
  {
   "cell_type": "code",
   "execution_count": null,
   "id": "0a478d42",
   "metadata": {},
   "outputs": [],
   "source": [
    "infill_density = RangeParameterConfig(name=\"infill_density\", parameter_type=\"float\", bounds=(0,100))\n",
    "layer_height = RangeParameterConfig(name=\"layer_height\", parameter_type=\"float\", bounds=(0.1,0.4))\n",
    "infill_type = ChoiceParameterConfig(name=\"infill_type\", parameter_type=\"str\", values=[\"honeycomb\", \"gyroid\", \"lines\", \"rectilinear\"])\n",
    "\n",
    "client.configure_experiment(\n",
    "    parameters=[infill_density, layer_height, infill_type],\n",
    "    # the following areguments are only necessary when saving to the DB\n",
    "    name=\"3D_print_strength_experiment\",\n",
    "    description=\"Maximize the strength of the 3D printed parts\",\n",
    "    owner=\"developer\",\n",
    "    )"
   ]
  }
 ],
 "metadata": {
  "language_info": {
   "name": "python"
  }
 },
 "nbformat": 4,
 "nbformat_minor": 5
}
