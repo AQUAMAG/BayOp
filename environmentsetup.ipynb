{
 "cells": [
  {
   "cell_type": "markdown",
   "metadata": {},
   "source": [
    "# Run the following command, it should bring a dropdown requiring you to select a kernel if one is not already selected\n",
    "- Select the conda environment you have created for the Bayesian Optimization software from the dropdown\n",
    "![environmentList](refs/envList.png)"
   ]
  },
  {
   "cell_type": "code",
   "execution_count": null,
   "metadata": {},
   "outputs": [],
   "source": [
    "# This shell will check if conda is installed and print its version.\n",
    "# If conda is not installed, it will print an error message.\n",
    "\n",
    "!conda --version"
   ]
  },
  {
   "cell_type": "markdown",
   "metadata": {},
   "source": [
    "# The following cell will install the bayesian-optimization library and other necessary dependencies"
   ]
  },
  {
   "cell_type": "code",
   "execution_count": null,
   "metadata": {},
   "outputs": [],
   "source": [
    "# If conda is not installed, the above command will fail.\n",
    "# The following command will install the bayesian-optimization into this conda environment\n",
    "\n",
    "!conda install -c conda-forge bayesian-optimization matplotlib pandas ipykernel openpyxl -y"
   ]
  },
  {
   "cell_type": "code",
   "execution_count": null,
   "metadata": {},
   "outputs": [],
   "source": []
  }
 ],
 "metadata": {
  "kernelspec": {
   "display_name": "bayop",
   "language": "python",
   "name": "python3"
  },
  "language_info": {
   "codemirror_mode": {
    "name": "ipython",
    "version": 3
   },
   "file_extension": ".py",
   "mimetype": "text/x-python",
   "name": "python",
   "nbconvert_exporter": "python",
   "pygments_lexer": "ipython3",
   "version": "3.12.2"
  }
 },
 "nbformat": 4,
 "nbformat_minor": 2
}
