{
 "cells": [
  {
   "cell_type": "markdown",
   "metadata": {},
   "source": [
    "# Black Box function\n",
    "- Represents a generic function that we are trying to optimize\n",
    "- In this case, we use 5 inputs each representing an experimental control"
   ]
  },
  {
   "cell_type": "code",
   "execution_count": 6,
   "metadata": {},
   "outputs": [],
   "source": [
    "# This will fail if the bayes_opt module is not installed\n",
    "# you can install it by opening and running the environmentsetup.ipynb file\n",
    "\n",
    "from bayes_opt import BayesianOptimization"
   ]
  },
  {
   "cell_type": "code",
   "execution_count": 7,
   "metadata": {},
   "outputs": [],
   "source": [
    "# This function is just a placeholder\n",
    "# Proper functionality will open the CSV file and read the data input from test runs\n",
    "\n",
    "def black_box_function(zStagePosition, flowRate, pressure, heaterSetpoint, substrateRotation, targetRotation, depositionTime, laserEnergy, laserSpotSize, laserRepetitionRate, coolingTime):\n",
    "    \"\"\"Function with unknown internals we wish to maximize.\n",
    "\n",
    "    This is just serving as an example, for all intents and\n",
    "    purposes think of the internals of this function, i.e.: the process\n",
    "    which generates its output values, as unknown.\n",
    "\n",
    "    The function takes in a number of parameters and returns a single value which will be deposition thickness.\n",
    "    \n",
    "\n",
    "    The current variables are:\n",
    "    zStagePosition: float\n",
    "        The position of the Z stage in mm.\n",
    "    flowRate: float\n",
    "        The flow rate in sccm.\n",
    "    pressure: float\n",
    "        The pressure in mTorr.\n",
    "    heaterSetpoint: float\n",
    "        The heater setpoint in °C.\n",
    "    substrateRotation: float\n",
    "        The rotation of the substrate in rpm.\n",
    "    targetRotation: float\n",
    "        The target rotation in rpm. \n",
    "    depositionTime: float\n",
    "        The deposition time in min.\n",
    "    laserEnergy: float\n",
    "        The laser energy in mJ.\n",
    "    laserSpotSize: float\n",
    "        The laser spot size in mm^2.\n",
    "    laserRepetitionRate: float\n",
    "        The laser repetition rate in Hz.\n",
    "    coolingTime: float\n",
    "        The cooling time in min.\n",
    "    \"\"\"\n",
    "\n",
    "\n",
    "    return (\n",
    "    -zStagePosition * (2 * flowRate) ** 2\n",
    "    - (pressure * heaterSetpoint - substrateRotation) ** 2 * targetRotation\n",
    "    + (laserEnergy * laserSpotSize) * laserRepetitionRate * coolingTime * (2 * depositionTime) ** 2\n",
    "    + 1\n",
    ")\n",
    "\n"
   ]
  },
  {
   "cell_type": "code",
   "execution_count": 8,
   "metadata": {},
   "outputs": [],
   "source": [
    "from bayes_opt import BayesianOptimization\n",
    "from bayes_opt import acquisition\n",
    "import numpy as np\n",
    "\n",
    "import matplotlib.pyplot as plt\n",
    "from matplotlib import gridspec\n",
    "%matplotlib inline\n",
    "\n",
    "\n",
    "## This function will plot the output of changing a single variable\n",
    "## while keeping the rest of the parameters constant.\n",
    "## This will then plot the output of the black box function\n",
    "\n",
    "def plot_black_box_over(var_name, var_range, fixed_params):\n",
    "    x_vals = np.linspace(*var_range, 10000).reshape(-1, 1)\n",
    "    y_vals = []\n",
    "\n",
    "    for x in x_vals:\n",
    "        args = fixed_params.copy()\n",
    "        args[var_name] = x.item()\n",
    "        y = black_box_function(**args)\n",
    "        y_vals.append(y)\n",
    "\n",
    "\n",
    "    plt.plot(x_vals, y_vals)\n",
    "    plt.title(f\"black_box_function output as '{var_name}' varies\")\n",
    "    plt.xlabel(var_name)\n",
    "    plt.ylabel(\"Output\")\n",
    "    plt.grid(True)\n",
    "    plt.show()\n",
    "\n"
   ]
  },
  {
   "cell_type": "markdown",
   "metadata": {},
   "source": [
    "### Load Configs\n",
    "- Configuration file is located in `config.json`\n",
    "- File contains bounds for parameter input values and can be changed if necessary\n",
    "\n",
    "\n"
   ]
  },
  {
   "cell_type": "code",
   "execution_count": 9,
   "metadata": {},
   "outputs": [],
   "source": [
    "\n",
    "# This is a placeholder for inputting parameter data\n",
    "# the actual data will be read from a CSV file\n",
    "# params = {\n",
    "#     'zStagePosition': 33,   # From pbounds 'a': (2, 4)\n",
    "#     'flowRate': 10,   # This will vary\n",
    "#     'pressure': 35,  # From pbounds 'c': (-8, 3)\n",
    "#     'heaterSetpoint': 600,\n",
    "#     'substrateRotation': 10,\n",
    "#     'targetRotation': 10,\n",
    "#     'depositionTime': 60,\n",
    "#     'laserEnergy': 235,\n",
    "#     'laserSpotSize': 2.83,\n",
    "#     'laserRepetitionRate': 10,\n",
    "#     'coolingTime': 19\n",
    "# }\n"
   ]
  },
  {
   "cell_type": "code",
   "execution_count": 10,
   "metadata": {},
   "outputs": [
    {
     "name": "stdout",
     "output_type": "stream",
     "text": [
      "Loaded config: file from config.json\n",
      "Loaded config parameters:\n",
      "{\n",
      "    \"pbounds\": {\n",
      "        \"zStagePosition\": [\n",
      "            0,\n",
      "            51\n",
      "        ],\n",
      "        \"flowRate\": [\n",
      "            0,\n",
      "            10\n",
      "        ],\n",
      "        \"pressure\": [\n",
      "            0,\n",
      "            125\n",
      "        ],\n",
      "        \"heaterSetpoint\": [\n",
      "            0,\n",
      "            1000\n",
      "        ],\n",
      "        \"substrateRotation\": [\n",
      "            0,\n",
      "            30\n",
      "        ],\n",
      "        \"targetRotation\": [\n",
      "            0,\n",
      "            30\n",
      "        ],\n",
      "        \"depositionTime\": [\n",
      "            0,\n",
      "            1000\n",
      "        ],\n",
      "        \"laserEnergy\": [\n",
      "            0,\n",
      "            500\n",
      "        ],\n",
      "        \"laserSpotSize\": [\n",
      "            0,\n",
      "            5\n",
      "        ],\n",
      "        \"laserRepetitionRate\": [\n",
      "            0,\n",
      "            100\n",
      "        ],\n",
      "        \"coolingTime\": [\n",
      "            0,\n",
      "            1000\n",
      "        ]\n",
      "    },\n",
      "    \"optimizer_settings\": {\n",
      "        \"init_points\": 5,\n",
      "        \"n_iter\": 25,\n",
      "        \"acq\": \"ei\"\n",
      "    },\n",
      "    \"model_parameters\": {\n",
      "        \"learning_rate\": 0.01,\n",
      "        \"batch_size\": 32\n",
      "    }\n",
      "}\n"
     ]
    }
   ],
   "source": [
    "import json\n",
    "\n",
    "\n",
    "\n",
    "# Bounds and configs are loaded in config file (config.json)\n",
    "configPath = 'config.json'\n",
    "\n",
    "# Load the full config data file\n",
    "try:\n",
    "    # Load the full config data file\n",
    "    with open(configPath, 'r') as f:\n",
    "        config = json.load(f)\n",
    "        print(f\"Loaded config: file from {configPath}\")\n",
    "\n",
    "    # Extract bounds for parameters\n",
    "    pbounds = config['pbounds']\n",
    "\n",
    "    ## Other parameters that can be loaded via config\n",
    "    # optimizer_settings = config['optimizer_settings']\n",
    "    # model_params = config['model_parameters']\n",
    "\n",
    "    # Print usage\n",
    "    print(\"Loaded config parameters:\")\n",
    "    print(json.dumps(config, indent=4))\n",
    "\n",
    "\n",
    "except FileNotFoundError:\n",
    "    print(f\"Error: Could not find the config file at '{configPath}'. Please check the path and try again.\")\n",
    "\n",
    "except json.JSONDecodeError as e:\n",
    "    print(f\"Error: Failed to parse JSON in config file '{configPath}': {e}\")\n",
    "\n",
    "except Exception as e:\n",
    "    print(f\"An unexpected error occurred while loading the config file: {e}\")\n",
    "\n"
   ]
  },
  {
   "cell_type": "code",
   "execution_count": null,
   "metadata": {},
   "outputs": [],
   "source": [
    "import pandas as pd\n",
    "\n",
    "\n",
    "# This will load the data from the CSV or Excel file to load a row of parameters into the software for optimization\n",
    "\n",
    "#TODO: have parameter loading iterate through all rows until the end\n",
    "# If last row has no output value \n",
    "   #-> send message awaiting input from experiment\n",
    "# If all values are filled\n",
    "    # -> load the last row as parameters\n",
    "    # -> perform the optimization\n",
    "    # -> fill the following row with the next set of suggested parameters\n",
    "\n",
    "## Below is a dictionary that maps the human-readable names of the parameters to their corresponding parameter names in the function\n",
    "readable_to_param = {\n",
    "    \"Z-Stage Position (mm)\": \"zStagePosition\",\n",
    "    \"Flow Rate (sccm)\": \"flowRate\",\n",
    "    \"Pressure (mTorr)\": \"pressure\",\n",
    "    \"Heater Setpoint (C)\": \"heaterSetpoint\",\n",
    "    \"Substrate Rotation (RPM)\": \"substrateRotation\",\n",
    "    \"Target Rotation (RPM)\": \"targetRotation\",\n",
    "    \"Deposition Time (min)\": \"depositionTime\",\n",
    "    \"Laser Energy (mJ)\": \"laserEnergy\",\n",
    "    \"Laser Spot Size (mm^2)\": \"laserSpotSize\",\n",
    "    \"Laser Repetition Rate (Hz)\": \"laserRepetitionRate\",\n",
    "    \"Cooling Time (min)\": \"coolingTime\"\n",
    "}\n",
    "\n",
    "# Specify file path for the experimental data to load from\n",
    "# this should be either a CSV or an Excel file\n",
    "\n",
    "file_path = \"data.xlsx\"  \n",
    "\n",
    "\n",
    "\n",
    "# Load the specified file here\n",
    "if file_path.endswith('.csv'):\n",
    "    df = pd.read_csv(file_path)\n",
    "elif file_path.endswith('.xlsx'):\n",
    "    df = pd.read_excel(file_path)\n",
    "else:\n",
    "    raise ValueError(\"Unsupported file format. Use .csv or .xlsx\")\n",
    "\n",
    "\n",
    "# Map dictionary keys to the columns in the dataframe\n",
    "mapped_cols = {col: readable_to_param[col] for col in df.columns if col in readable_to_param}\n",
    "df.rename(columns=mapped_cols, inplace=True)\n",
    "\n",
    "# Filter out only the needed param columns\n",
    "df = df[list(readable_to_param.values())]\n",
    "\n",
    "# Convert the first row to a dict of float values\n",
    "params = df.iloc[0].astype(float).to_dict()\n",
    "\n"
   ]
  },
  {
   "cell_type": "code",
   "execution_count": 14,
   "metadata": {},
   "outputs": [],
   "source": [
    "# plot_black_box_over('flowRate', (0, 10), fixed_params=params)\n",
    "# plot_black_box_over('zStagePosition', (0, 51), fixed_params=params)\n",
    "# plot_black_box_over('pressure', (0, 100), fixed_params=params)\n",
    "# plot_black_box_over('depositionTime', (0, 120), fixed_params=params)\n",
    "# plot_black_box_over('laserEnergy', (0, 1000), fixed_params=params)\n",
    "# plot_black_box_over('laserSpotSize', (0, 10), fixed_params=params)\n",
    "# plot_black_box_over('laserRepetitionRate', (0, 100), fixed_params=params)\n",
    "# plot_black_box_over('coolingTime', (0, 120), fixed_params=params)\n",
    "# plot_black_box_over('substrateRotation', (0, 100), fixed_params=params)\n",
    "# plot_black_box_over('targetRotation', (0, 100), fixed_params=params)"
   ]
  },
  {
   "cell_type": "markdown",
   "metadata": {},
   "source": [
    "### Set boundaries for input parameters\n",
    "- These are allowable entries for experimental control variables\n",
    "- In this case, we have arbitrary values selected for each input"
   ]
  },
  {
   "cell_type": "code",
   "execution_count": 28,
   "metadata": {},
   "outputs": [],
   "source": [
    "optimizer = BayesianOptimization(\n",
    "    f=black_box_function, # sets function for optimization to our defined function above\n",
    "    pbounds=pbounds,# sets the bounds for each of the parameters to above set values\n",
    "    verbose=2,# verbose = 1 prints only when a maximum is observed, verbose = 0 is silent\n",
    "    random_state=1,\n",
    ")"
   ]
  },
  {
   "cell_type": "code",
   "execution_count": 29,
   "metadata": {},
   "outputs": [
    {
     "name": "stdout",
     "output_type": "stream",
     "text": [
      "|   iter    |  target   | coolin... | deposi... | flowRate  | heater... | laserE... | laserR... | laserS... | pressure  | substr... | target... | zStage... |\n",
      "-------------------------------------------------------------------------------------------------------------------------------------------------------------\n",
      "| \u001b[39m1        \u001b[39m | \u001b[39m5.434e+11\u001b[39m | \u001b[39m417.0    \u001b[39m | \u001b[39m720.3    \u001b[39m | \u001b[39m0.001144 \u001b[39m | \u001b[39m302.3    \u001b[39m | \u001b[39m73.38    \u001b[39m | \u001b[39m9.234    \u001b[39m | \u001b[39m0.9313   \u001b[39m | \u001b[39m43.2     \u001b[39m | \u001b[39m11.9     \u001b[39m | \u001b[39m16.16    \u001b[39m | \u001b[39m21.38    \u001b[39m |\n",
      "| \u001b[35m2        \u001b[39m | \u001b[35m4.477e+12\u001b[39m | \u001b[35m685.2    \u001b[39m | \u001b[35m204.5    \u001b[39m | \u001b[35m8.781    \u001b[39m | \u001b[35m27.39    \u001b[39m | \u001b[35m335.2    \u001b[39m | \u001b[35m41.73    \u001b[39m | \u001b[35m2.793    \u001b[39m | \u001b[35m17.55    \u001b[39m | \u001b[35m5.943    \u001b[39m | \u001b[35m24.02    \u001b[39m | \u001b[35m49.38    \u001b[39m |\n",
      "| \u001b[39m3        \u001b[39m | \u001b[39m-3.708e+1\u001b[39m | \u001b[39m313.4    \u001b[39m | \u001b[39m692.3    \u001b[39m | \u001b[39m8.764    \u001b[39m | \u001b[39m894.6    \u001b[39m | \u001b[39m42.52    \u001b[39m | \u001b[39m3.905    \u001b[39m | \u001b[39m0.8492   \u001b[39m | \u001b[39m109.8    \u001b[39m | \u001b[39m2.95     \u001b[39m | \u001b[39m12.63    \u001b[39m | \u001b[39m48.85    \u001b[39m |\n",
      "| \u001b[39m4        \u001b[39m | \u001b[39m2.862e+12\u001b[39m | \u001b[39m533.2    \u001b[39m | \u001b[39m691.9    \u001b[39m | \u001b[39m3.155    \u001b[39m | \u001b[39m686.5    \u001b[39m | \u001b[39m417.3    \u001b[39m | \u001b[39m1.829    \u001b[39m | \u001b[39m3.751    \u001b[39m | \u001b[39m123.6    \u001b[39m | \u001b[39m22.44    \u001b[39m | \u001b[39m8.413    \u001b[39m | \u001b[39m40.25    \u001b[39m |\n",
      "| \u001b[39m5        \u001b[39m | \u001b[39m1.006e+10\u001b[39m | \u001b[39m103.2    \u001b[39m | \u001b[39m447.9    \u001b[39m | \u001b[39m9.086    \u001b[39m | \u001b[39m293.6    \u001b[39m | \u001b[39m143.9    \u001b[39m | \u001b[39m13.0     \u001b[39m | \u001b[39m0.09683  \u001b[39m | \u001b[39m84.85    \u001b[39m | \u001b[39m6.349    \u001b[39m | \u001b[39m7.966    \u001b[39m | \u001b[39m25.07    \u001b[39m |\n",
      "| \u001b[39m6        \u001b[39m | \u001b[39m1.085e+12\u001b[39m | \u001b[39m714.5    \u001b[39m | \u001b[39m131.5    \u001b[39m | \u001b[39m0.8432   \u001b[39m | \u001b[39m57.58    \u001b[39m | \u001b[39m391.2    \u001b[39m | \u001b[39m74.92    \u001b[39m | \u001b[39m0.7498   \u001b[39m | \u001b[39m77.21    \u001b[39m | \u001b[39m28.32    \u001b[39m | \u001b[39m17.77    \u001b[39m | \u001b[39m1.527    \u001b[39m |\n",
      "| \u001b[39m7        \u001b[39m | \u001b[39m1.421e+10\u001b[39m | \u001b[39m333.9    \u001b[39m | \u001b[39m33.04    \u001b[39m | \u001b[39m3.314    \u001b[39m | \u001b[39m197.1    \u001b[39m | \u001b[39m78.47    \u001b[39m | \u001b[39m49.52    \u001b[39m | \u001b[39m2.51     \u001b[39m | \u001b[39m3.494    \u001b[39m | \u001b[39m9.303    \u001b[39m | \u001b[39m21.15    \u001b[39m | \u001b[39m35.06    \u001b[39m |\n",
      "| \u001b[39m8        \u001b[39m | \u001b[39m1.01e+12 \u001b[39m | \u001b[39m305.9    \u001b[39m | \u001b[39m275.6    \u001b[39m | \u001b[39m4.465    \u001b[39m | \u001b[39m131.3    \u001b[39m | \u001b[39m297.8    \u001b[39m | \u001b[39m74.72    \u001b[39m | \u001b[39m0.4891   \u001b[39m | \u001b[39m51.09    \u001b[39m | \u001b[39m14.14    \u001b[39m | \u001b[39m22.69    \u001b[39m | \u001b[39m11.47    \u001b[39m |\n",
      "=============================================================================================================================================================\n"
     ]
    }
   ],
   "source": [
    "optimizer.maximize(\n",
    "    init_points=5,\n",
    "    n_iter=3, \n",
    ")"
   ]
  },
  {
   "cell_type": "markdown",
   "metadata": {
    "vscode": {
     "languageId": "markdown"
    }
   },
   "source": [
    "The best combination of parameters and target value found can be accessed via the property `bo.max`."
   ]
  },
  {
   "cell_type": "code",
   "execution_count": 30,
   "metadata": {},
   "outputs": [
    {
     "name": "stdout",
     "output_type": "stream",
     "text": [
      "{'target': np.float64(4477286232235.03), 'params': {'coolingTime': np.float64(685.2195003967595), 'depositionTime': np.float64(204.45224973151744), 'flowRate': np.float64(8.781174363909454), 'heaterSetpoint': np.float64(27.387593197926165), 'laserEnergy': np.float64(335.2337550892011), 'laserRepetitionRate': np.float64(41.730480236712694), 'laserSpotSize': np.float64(2.7934491422287584), 'pressure': np.float64(17.54836732440422), 'substrateRotation': np.float64(5.943044672546364), 'targetRotation': np.float64(24.0223370602661), 'zStagePosition': np.float64(49.381340361689276)}}\n"
     ]
    }
   ],
   "source": [
    "print(optimizer.max)"
   ]
  },
  {
   "cell_type": "markdown",
   "metadata": {},
   "source": [
    "While the list of all parameters probed and their corresponding target values is available via the property `bo.res`.\n"
   ]
  },
  {
   "cell_type": "code",
   "execution_count": 31,
   "metadata": {},
   "outputs": [
    {
     "name": "stdout",
     "output_type": "stream",
     "text": [
      "Iteration 0: \n",
      "\t{'target': np.float64(543401135248.8061), 'params': {'coolingTime': np.float64(417.022004702574), 'depositionTime': np.float64(720.3244934421581), 'flowRate': np.float64(0.0011437481734488664), 'heaterSetpoint': np.float64(302.33257263183975), 'laserEnergy': np.float64(73.37794540855653), 'laserRepetitionRate': np.float64(9.233859476879779), 'laserSpotSize': np.float64(0.9313010568883545), 'pressure': np.float64(43.19509088038097), 'substrateRotation': np.float64(11.903024226920099), 'targetRotation': np.float64(16.16450202010071), 'zStagePosition': np.float64(21.378920234568035)}}\n",
      "Iteration 1: \n",
      "\t{'target': np.float64(4477286232235.03), 'params': {'coolingTime': np.float64(685.2195003967595), 'depositionTime': np.float64(204.45224973151744), 'flowRate': np.float64(8.781174363909454), 'heaterSetpoint': np.float64(27.387593197926165), 'laserEnergy': np.float64(335.2337550892011), 'laserRepetitionRate': np.float64(41.730480236712694), 'laserSpotSize': np.float64(2.7934491422287584), 'pressure': np.float64(17.54836732440422), 'substrateRotation': np.float64(5.943044672546364), 'targetRotation': np.float64(24.0223370602661), 'zStagePosition': np.float64(49.381340361689276)}}\n",
      "Iteration 2: \n",
      "\t{'target': np.float64(-37076381393.83984), 'params': {'coolingTime': np.float64(313.42417815924284), 'depositionTime': np.float64(692.3226156693141), 'flowRate': np.float64(8.763891522960384), 'heaterSetpoint': np.float64(894.6066635038474), 'laserEnergy': np.float64(42.522105684888956), 'laserRepetitionRate': np.float64(3.905478323288236), 'laserSpotSize': np.float64(0.8491520978228445), 'pressure': np.float64(109.76781292867665), 'substrateRotation': np.float64(2.950405014991503), 'targetRotation': np.float64(12.633228750151565), 'zStagePosition': np.float64(48.8523660376756)}}\n",
      "Iteration 3: \n",
      "\t{'target': np.float64(2861779826663.431), 'params': {'coolingTime': np.float64(533.165284973017), 'depositionTime': np.float64(691.8771139504734), 'flowRate': np.float64(3.1551563100606295), 'heaterSetpoint': np.float64(686.5009276815837), 'laserEnergy': np.float64(417.3128359486865), 'laserRepetitionRate': np.float64(1.8288277344191806), 'laserSpotSize': np.float64(3.7507215747248375), 'pressure': np.float64(123.60763611331184), 'substrateRotation': np.float64(22.444969631395182), 'targetRotation': np.float64(8.413319761932156), 'zStagePosition': np.float64(40.253245751025915)}}\n",
      "Iteration 4: \n",
      "\t{'target': np.float64(10064475178.083145), 'params': {'coolingTime': np.float64(103.22600657764202), 'depositionTime': np.float64(447.89352617590515), 'flowRate': np.float64(9.085955030930956), 'heaterSetpoint': np.float64(293.6141483736795), 'laserEnergy': np.float64(143.88766929317438), 'laserRepetitionRate': np.float64(13.002857211827767), 'laserSpotSize': np.float64(0.09683478935148537), 'pressure': np.float64(84.85444161748637), 'substrateRotation': np.float64(6.348843480001771), 'targetRotation': np.float64(7.966399781166786), 'zStagePosition': np.float64(25.07023112329725)}}\n",
      "Iteration 5: \n",
      "\t{'target': np.float64(1085009055091.1588), 'params': {'coolingTime': np.float64(714.5163873759727), 'depositionTime': np.float64(131.46286923393004), 'flowRate': np.float64(0.8431799171204313), 'heaterSetpoint': np.float64(57.57624635319958), 'laserEnergy': np.float64(391.1771280309906), 'laserRepetitionRate': np.float64(74.92064954788967), 'laserSpotSize': np.float64(0.7497539395285163), 'pressure': np.float64(77.211575243639), 'substrateRotation': np.float64(28.316206141763942), 'targetRotation': np.float64(17.772322527320906), 'zStagePosition': np.float64(1.526783888257821)}}\n",
      "Iteration 6: \n",
      "\t{'target': np.float64(14205688236.494505), 'params': {'coolingTime': np.float64(333.8504580995801), 'depositionTime': np.float64(33.03589618221614), 'flowRate': np.float64(3.3135871965194905), 'heaterSetpoint': np.float64(197.13712291565798), 'laserEnergy': np.float64(78.46909852637235), 'laserRepetitionRate': np.float64(49.518250258383375), 'laserSpotSize': np.float64(2.510224930835245), 'pressure': np.float64(3.493691978416022), 'substrateRotation': np.float64(9.302622319680578), 'targetRotation': np.float64(21.152395453531657), 'zStagePosition': np.float64(35.06342468150535)}}\n",
      "Iteration 7: \n",
      "\t{'target': np.float64(1010197302404.5488), 'params': {'coolingTime': np.float64(305.869615537433), 'depositionTime': np.float64(275.57183816327), 'flowRate': np.float64(4.464911420840439), 'heaterSetpoint': np.float64(131.32873293958812), 'laserEnergy': np.float64(297.8206670360006), 'laserRepetitionRate': np.float64(74.72499519519934), 'laserSpotSize': np.float64(0.48905357403676464), 'pressure': np.float64(51.085252837381745), 'substrateRotation': np.float64(14.142121063124383), 'targetRotation': np.float64(22.688156784328058), 'zStagePosition': np.float64(11.466710833285573)}}\n"
     ]
    }
   ],
   "source": [
    "for i, res in enumerate(optimizer.res):\n",
    "    print(\"Iteration {}: \\n\\t{}\".format(i, res))"
   ]
  },
  {
   "cell_type": "code",
   "execution_count": 32,
   "metadata": {},
   "outputs": [],
   "source": [
    "optimizer.set_bounds(new_bounds={'a': (-2, 3)})"
   ]
  },
  {
   "cell_type": "code",
   "execution_count": 33,
   "metadata": {},
   "outputs": [
    {
     "name": "stdout",
     "output_type": "stream",
     "text": [
      "|   iter    |  target   | coolin... | deposi... | flowRate  | heater... | laserE... | laserR... | laserS... | pressure  | substr... | target... | zStage... |\n",
      "-------------------------------------------------------------------------------------------------------------------------------------------------------------\n",
      "| \u001b[35m9        \u001b[39m | \u001b[35m1.21e+13 \u001b[39m | \u001b[35m377.3    \u001b[39m | \u001b[35m448.0    \u001b[39m | \u001b[35m4.168    \u001b[39m | \u001b[35m253.1    \u001b[39m | \u001b[35m131.0    \u001b[39m | \u001b[35m76.43    \u001b[39m | \u001b[35m3.989    \u001b[39m | \u001b[35m39.99    \u001b[39m | \u001b[35m19.75    \u001b[39m | \u001b[35m16.72    \u001b[39m | \u001b[35m45.71    \u001b[39m |\n",
      "| \u001b[39m10       \u001b[39m | \u001b[39m2.053e+11\u001b[39m | \u001b[39m990.4    \u001b[39m | \u001b[39m39.31    \u001b[39m | \u001b[39m2.165    \u001b[39m | \u001b[39m171.3    \u001b[39m | \u001b[39m156.7    \u001b[39m | \u001b[39m57.97    \u001b[39m | \u001b[39m3.695    \u001b[39m | \u001b[39m15.36    \u001b[39m | \u001b[39m13.16    \u001b[39m | \u001b[39m24.96    \u001b[39m | \u001b[39m17.18    \u001b[39m |\n",
      "| \u001b[39m11       \u001b[39m | \u001b[39m1.083e+12\u001b[39m | \u001b[39m305.2    \u001b[39m | \u001b[39m189.4    \u001b[39m | \u001b[39m4.384    \u001b[39m | \u001b[39m649.4    \u001b[39m | \u001b[39m177.4    \u001b[39m | \u001b[39m88.92    \u001b[39m | \u001b[39m1.68     \u001b[39m | \u001b[39m119.5    \u001b[39m | \u001b[39m21.06    \u001b[39m | \u001b[39m12.89    \u001b[39m | \u001b[39m15.42    \u001b[39m |\n",
      "| \u001b[39m12       \u001b[39m | \u001b[39m7.38e+10 \u001b[39m | \u001b[39m274.3    \u001b[39m | \u001b[39m162.3    \u001b[39m | \u001b[39m4.495    \u001b[39m | \u001b[39m358.6    \u001b[39m | \u001b[39m115.2    \u001b[39m | \u001b[39m24.67    \u001b[39m | \u001b[39m0.9375   \u001b[39m | \u001b[39m47.52    \u001b[39m | \u001b[39m10.78    \u001b[39m | \u001b[39m11.08    \u001b[39m | \u001b[39m17.91    \u001b[39m |\n",
      "| \u001b[35m13       \u001b[39m | \u001b[35m1.214e+13\u001b[39m | \u001b[35m296.1    \u001b[39m | \u001b[35m489.4    \u001b[39m | \u001b[35m6.097    \u001b[39m | \u001b[35m35.53    \u001b[39m | \u001b[35m472.0    \u001b[39m | \u001b[35m78.6     \u001b[39m | \u001b[35m1.154    \u001b[39m | \u001b[35m73.74    \u001b[39m | \u001b[35m16.65    \u001b[39m | \u001b[35m9.808    \u001b[39m | \u001b[35m19.23    \u001b[39m |\n",
      "=============================================================================================================================================================\n"
     ]
    }
   ],
   "source": [
    "optimizer.maximize(\n",
    "    init_points=0,\n",
    "    n_iter=5,\n",
    ")"
   ]
  },
  {
   "cell_type": "markdown",
   "metadata": {},
   "source": [
    "## 3. Guiding the optimization\n",
    "\n",
    "It is often the case that we have an idea of regions of the parameter space where the maximum of our function might lie. For these situations the `BayesianOptimization` object allows the user to specify specific points to be probed. By default these will be explored lazily (`lazy=True`), meaning these points will be evaluated only the next time you call `maximize`. This probing process happens before the gaussian process takes over.\n",
    "\n",
    "Parameters can be passed as dictionaries such as below:"
   ]
  },
  {
   "cell_type": "code",
   "execution_count": 34,
   "metadata": {},
   "outputs": [],
   "source": [
    "optimizer.probe(\n",
    "    params={\"a\":1, \"b\":-1, \"c\":-5, \"d\":3, \"e\":0},\n",
    "    lazy=True,\n",
    ")"
   ]
  },
  {
   "cell_type": "code",
   "execution_count": 11,
   "metadata": {},
   "outputs": [
    {
     "name": "stdout",
     "output_type": "stream",
     "text": [
      "['a', 'b', 'c', 'd', 'e']\n"
     ]
    }
   ],
   "source": [
    "print(optimizer.space.keys)"
   ]
  },
  {
   "cell_type": "code",
   "execution_count": 12,
   "metadata": {},
   "outputs": [],
   "source": [
    "optimizer.probe(\n",
    "    params=[1, -1, -5, 3, 0],\n",
    "    lazy=True,\n",
    ")"
   ]
  },
  {
   "cell_type": "code",
   "execution_count": 13,
   "metadata": {},
   "outputs": [
    {
     "name": "stdout",
     "output_type": "stream",
     "text": [
      "|   iter    |  target   |     a     |     b     |     c     |     d     |     e     |\n",
      "-------------------------------------------------------------------------------------\n",
      "| \u001b[39m14       \u001b[39m | \u001b[39m-3.0     \u001b[39m | \u001b[39m1.0      \u001b[39m | \u001b[39m-1.0     \u001b[39m | \u001b[39m-5.0     \u001b[39m | \u001b[39m3.0      \u001b[39m | \u001b[39m0.0      \u001b[39m |\n",
      "| \u001b[39m15       \u001b[39m | \u001b[39m-3.0     \u001b[39m | \u001b[39m1.0      \u001b[39m | \u001b[39m-1.0     \u001b[39m | \u001b[39m-5.0     \u001b[39m | \u001b[39m3.0      \u001b[39m | \u001b[39m0.0      \u001b[39m |\n",
      "=====================================================================================\n"
     ]
    }
   ],
   "source": [
    "optimizer.maximize(\n",
    "    init_points=0,\n",
    "    n_iter=0,\n",
    ")"
   ]
  },
  {
   "cell_type": "code",
   "execution_count": null,
   "metadata": {},
   "outputs": [
    {
     "ename": "NameError",
     "evalue": "name 'target_function' is not defined",
     "output_type": "error",
     "traceback": [
      "\u001b[31m---------------------------------------------------------------------------\u001b[39m",
      "\u001b[31mNameError\u001b[39m                                 Traceback (most recent call last)",
      "\u001b[36mCell\u001b[39m\u001b[36m \u001b[39m\u001b[32mIn[16]\u001b[39m\u001b[32m, line 80\u001b[39m\n\u001b[32m     76\u001b[39m             axs[i,j].scatter(max_[\u001b[33m\"\u001b[39m\u001b[33mparams\u001b[39m\u001b[33m\"\u001b[39m][\u001b[33m'\u001b[39m\u001b[33mx\u001b[39m\u001b[33m'\u001b[39m], max_[\u001b[33m\"\u001b[39m\u001b[33mparams\u001b[39m\u001b[33m\"\u001b[39m][\u001b[33m'\u001b[39m\u001b[33my\u001b[39m\u001b[33m'\u001b[39m], s=\u001b[32m80\u001b[39m, c=\u001b[33m'\u001b[39m\u001b[33mgreen\u001b[39m\u001b[33m'\u001b[39m, edgecolors=\u001b[33m'\u001b[39m\u001b[33mblack\u001b[39m\u001b[33m'\u001b[39m)\n\u001b[32m     78\u001b[39m     \u001b[38;5;28;01mreturn\u001b[39;00m fig, axs\n\u001b[32m---> \u001b[39m\u001b[32m80\u001b[39m plot_constrained_opt(pbounds, \u001b[43mtarget_function\u001b[49m, optimizer);\n",
      "\u001b[31mNameError\u001b[39m: name 'target_function' is not defined"
     ]
    }
   ],
   "source": [
    "\n",
    "def plot_constrained_opt(pbounds, target_function, optimizer):\n",
    "    \"\"\"\n",
    "    Plots a number of interesting contours to visualize constrained 2-dimensional optimization.\n",
    "    \"\"\"\n",
    "\n",
    "    # Set a few parameters\n",
    "    n_constraints = optimizer.constraint.lb.size\n",
    "    n_plots_per_row = 2+n_constraints\n",
    "\n",
    "    # Construct the subplot titles\n",
    "    if n_constraints==1:\n",
    "        c_labels = [\"constraint\"]\n",
    "    else:\n",
    "        c_labels = [f\"constraint {i+1}\" for i in range(n_constraints)]\n",
    "    labels_top = [\"target\"] + c_labels + [\"masked target\"]\n",
    "    labels_bot = [\"target estimate\"] + [c + \" estimate\" for c in c_labels] + [\"acquisition function\"]\n",
    "    labels = [labels_top, labels_bot]\n",
    "\n",
    "    # Setup the grid to plot on\n",
    "    x = np.linspace(pbounds['x'][0], pbounds['x'][1], 1000)\n",
    "    y = np.linspace(pbounds['y'][0], pbounds['y'][1], 1000)\n",
    "    xy = np.array([[x_i, y_j] for y_j in y for x_i in x])\n",
    "    X, Y = np.meshgrid(x, y)\n",
    "\n",
    "    # Evaluate the actual functions on the grid\n",
    "    Z = target_function(X, Y)\n",
    "    # This reshaping is a bit painful admittedly, but it's a consequence of np.meshgrid\n",
    "    C = optimizer.constraint.fun(X, Y).reshape((n_constraints,) + Z.shape).swapaxes(0, -1)\n",
    "\n",
    "\n",
    "    fig, axs = plt.subplots(2, n_plots_per_row, constrained_layout=True, figsize=(12,8))\n",
    "\n",
    "    for i in range(2):\n",
    "        for j in range(n_plots_per_row):\n",
    "            axs[i, j].set_aspect(\"equal\")\n",
    "            axs[i, j].set_title(labels[i][j])\n",
    "\n",
    "\n",
    "    # Extract & unpack the optimization results\n",
    "    max_ = optimizer.max\n",
    "    res = optimizer.res\n",
    "    x_ = np.array([r[\"params\"]['x'] for r in res])\n",
    "    y_ = np.array([r[\"params\"]['y'] for r in res])\n",
    "    c_ = np.array([r[\"constraint\"] for r in res])\n",
    "    a_ = np.array([r[\"allowed\"] for r in res])\n",
    "\n",
    "\n",
    "    Z_est = optimizer._gp.predict(xy).reshape(Z.shape)\n",
    "    C_est = optimizer.constraint.approx(xy).reshape(Z.shape + (n_constraints,))\n",
    "    P_allowed = optimizer.constraint.predict(xy).reshape(Z.shape)\n",
    "\n",
    "    Acq = np.where(Z_est >0, Z_est * P_allowed, Z_est / (0.5 + P_allowed))\n",
    "\n",
    "\n",
    "    target_vbounds = np.min([Z, Z_est]), np.max([Z, Z_est])\n",
    "    constraint_vbounds = np.min([C, C_est]), np.max([C, C_est])\n",
    "\n",
    "\n",
    "    axs[0,0].contourf(X, Y, Z, cmap=plt.cm.coolwarm, vmin=target_vbounds[0], vmax=target_vbounds[1])\n",
    "    for i in range(n_constraints):\n",
    "        axs[0,1+i].contourf(X, Y, C[:,:,i], cmap=plt.cm.coolwarm, vmin=constraint_vbounds[0], vmax=constraint_vbounds[1])\n",
    "    Z_mask = Z\n",
    "\n",
    "    Z_mask[~np.squeeze(optimizer.constraint.allowed(C))] = np.nan\n",
    "    axs[0,n_plots_per_row-1].contourf(X, Y, Z_mask, cmap=plt.cm.coolwarm, vmin=target_vbounds[0], vmax=target_vbounds[1])\n",
    "\n",
    "    axs[1,0].contourf(X, Y, Z_est, cmap=plt.cm.coolwarm, vmin=target_vbounds[0], vmax=target_vbounds[1])\n",
    "    for i in range(n_constraints):\n",
    "        axs[1,1+i].contourf(X, Y, C_est[:, :, i], cmap=plt.cm.coolwarm, vmin=constraint_vbounds[0], vmax=constraint_vbounds[1])\n",
    "    axs[1,n_plots_per_row-1].contourf(X, Y, Acq, cmap=plt.cm.coolwarm, vmin=0, vmax=1)\n",
    "\n",
    "    for i in range(2):\n",
    "        for j in range(n_plots_per_row):\n",
    "            axs[i,j].scatter(x_[a_], y_[a_], c='white', s=80, edgecolors='black')\n",
    "            axs[i,j].scatter(x_[~a_], y_[~a_], c='red', s=80, edgecolors='black')\n",
    "            axs[i,j].scatter(max_[\"params\"]['x'], max_[\"params\"]['y'], s=80, c='green', edgecolors='black')\n",
    "\n",
    "    return fig, axs\n",
    "\n",
    "plot_constrained_opt(pbounds, target_function, optimizer);"
   ]
  },
  {
   "cell_type": "markdown",
   "metadata": {},
   "source": [
    "## 2. Getting Started\n",
    "\n",
    "All we need to get started is to instantiate a `BayesianOptimization` object specifying a function to be optimized `f`, and its parameters with their corresponding bounds, `pbounds`. This is a constrained optimization technique, so you must specify the minimum and maximum values that can be probed for each parameter in order for it to work"
   ]
  },
  {
   "cell_type": "code",
   "execution_count": 14,
   "metadata": {},
   "outputs": [],
   "source": [
    "from bayes_opt.logger import JSONLogger\n",
    "from bayes_opt.event import Events"
   ]
  },
  {
   "cell_type": "markdown",
   "metadata": {},
   "source": [
    "The observer paradigm works by:\n",
    "1. Instantiating an observer object.\n",
    "2. Tying the observer object to a particular event fired by an optimizer.\n",
    "\n",
    "The `BayesianOptimization` object fires a number of internal events during optimization, in particular, every time it probes the function and obtains a new parameter-target combination it will fire an `Events.OPTIMIZATION_STEP` event, which our logger will listen to.\n",
    "\n",
    "**Caveat:** The logger will not look back at previously probed points."
   ]
  },
  {
   "cell_type": "code",
   "execution_count": 15,
   "metadata": {},
   "outputs": [],
   "source": [
    "logger = JSONLogger(path=\"./logs/output-log.json\")\n",
    "optimizer.subscribe(Events.OPTIMIZATION_STEP, logger)"
   ]
  },
  {
   "cell_type": "code",
   "execution_count": 16,
   "metadata": {},
   "outputs": [
    {
     "name": "stdout",
     "output_type": "stream",
     "text": [
      "|   iter    |  target   |     a     |     b     |     c     |     d     |     e     |\n",
      "-------------------------------------------------------------------------------------\n",
      "| \u001b[39m16       \u001b[39m | \u001b[39m-709.1   \u001b[39m | \u001b[39m2.473    \u001b[39m | \u001b[39m-2.49    \u001b[39m | \u001b[39m-7.57    \u001b[39m | \u001b[39m0.8492   \u001b[39m | \u001b[39m1.513    \u001b[39m |\n",
      "| \u001b[39m17       \u001b[39m | \u001b[39m2.313    \u001b[39m | \u001b[39m-1.508   \u001b[39m | \u001b[39m-0.4734  \u001b[39m | \u001b[39m2.537    \u001b[39m | \u001b[39m2.666    \u001b[39m | \u001b[39m0.7675   \u001b[39m |\n",
      "| \u001b[39m18       \u001b[39m | \u001b[39m-454.3   \u001b[39m | \u001b[39m-0.457   \u001b[39m | \u001b[39m-2.938   \u001b[39m | \u001b[39m-3.433   \u001b[39m | \u001b[39m4.582    \u001b[39m | \u001b[39m1.354    \u001b[39m |\n",
      "| \u001b[39m19       \u001b[39m | \u001b[39m-221.5   \u001b[39m | \u001b[39m-0.1408  \u001b[39m | \u001b[39m-1.262   \u001b[39m | \u001b[39m-2.872   \u001b[39m | \u001b[39m0.9391   \u001b[39m | \u001b[39m-1.961   \u001b[39m |\n",
      "| \u001b[39m20       \u001b[39m | \u001b[39m-86.93   \u001b[39m | \u001b[39m1.965    \u001b[39m | \u001b[39m-2.702   \u001b[39m | \u001b[39m2.937    \u001b[39m | \u001b[39m0.00245  \u001b[39m | \u001b[39m0.9418   \u001b[39m |\n",
      "=====================================================================================\n"
     ]
    }
   ],
   "source": [
    "optimizer.maximize(\n",
    "    init_points=2,\n",
    "    n_iter=3,\n",
    ")"
   ]
  },
  {
   "cell_type": "code",
   "execution_count": 17,
   "metadata": {},
   "outputs": [],
   "source": [
    "from bayes_opt.util import load_logs"
   ]
  },
  {
   "cell_type": "code",
   "execution_count": 18,
   "metadata": {},
   "outputs": [
    {
     "name": "stdout",
     "output_type": "stream",
     "text": [
      "0\n"
     ]
    }
   ],
   "source": [
    "new_optimizer = BayesianOptimization(\n",
    "    f=black_box_function,\n",
    "    pbounds=pbounds,\n",
    "    verbose=2,\n",
    "    random_state=7,\n",
    ")\n",
    "print(len(new_optimizer.space))"
   ]
  },
  {
   "cell_type": "code",
   "execution_count": 19,
   "metadata": {},
   "outputs": [
    {
     "name": "stderr",
     "output_type": "stream",
     "text": [
      "/opt/anaconda3/envs/bayop/lib/python3.12/site-packages/bayes_opt/bayesian_optimization.py:236: UserWarning: \n",
      "Data point [-1.50826583 -0.47335425  2.53678483  2.66582642  0.76750846] is outside the bounds of the parameter space. \n",
      "  self._space.register(params, target, constraint_value)\n",
      "/opt/anaconda3/envs/bayop/lib/python3.12/site-packages/bayes_opt/bayesian_optimization.py:236: UserWarning: \n",
      "Data point [-0.45701499 -2.93819745 -3.43338351  4.58166153  1.3539277 ] is outside the bounds of the parameter space. \n",
      "  self._space.register(params, target, constraint_value)\n",
      "/opt/anaconda3/envs/bayop/lib/python3.12/site-packages/bayes_opt/bayesian_optimization.py:236: UserWarning: \n",
      "Data point [-0.14083436 -1.26232533 -2.87175052  0.93911254 -1.96086536] is outside the bounds of the parameter space. \n",
      "  self._space.register(params, target, constraint_value)\n",
      "/opt/anaconda3/envs/bayop/lib/python3.12/site-packages/bayes_opt/bayesian_optimization.py:236: UserWarning: \n",
      "Data point [ 1.96508147e+00 -2.70188863e+00  2.93685902e+00  2.44989330e-03\n",
      "  9.41824087e-01] is outside the bounds of the parameter space. \n",
      "  self._space.register(params, target, constraint_value)\n"
     ]
    },
    {
     "data": {
      "text/plain": [
       "<bayes_opt.bayesian_optimization.BayesianOptimization at 0x15616d880>"
      ]
     },
     "execution_count": 19,
     "metadata": {},
     "output_type": "execute_result"
    }
   ],
   "source": [
    "load_logs(new_optimizer, logs=[\"./logs/output-log.json\"])"
   ]
  },
  {
   "cell_type": "code",
   "execution_count": 20,
   "metadata": {},
   "outputs": [
    {
     "name": "stdout",
     "output_type": "stream",
     "text": [
      "New optimizer is now aware of 5 points of data.\n"
     ]
    }
   ],
   "source": [
    "print(\"New optimizer is now aware of {} points of data.\".format(len(new_optimizer.space)))"
   ]
  },
  {
   "cell_type": "code",
   "execution_count": 43,
   "metadata": {},
   "outputs": [
    {
     "ename": "NameError",
     "evalue": "name 'new_optimizer' is not defined",
     "output_type": "error",
     "traceback": [
      "\u001b[31m---------------------------------------------------------------------------\u001b[39m",
      "\u001b[31mNameError\u001b[39m                                 Traceback (most recent call last)",
      "\u001b[36mCell\u001b[39m\u001b[36m \u001b[39m\u001b[32mIn[43]\u001b[39m\u001b[32m, line 1\u001b[39m\n\u001b[32m----> \u001b[39m\u001b[32m1\u001b[39m \u001b[43mnew_optimizer\u001b[49m.maximize(\n\u001b[32m      2\u001b[39m     init_points=\u001b[32m0\u001b[39m,\n\u001b[32m      3\u001b[39m     n_iter=\u001b[32m10\u001b[39m,\n\u001b[32m      4\u001b[39m )\n",
      "\u001b[31mNameError\u001b[39m: name 'new_optimizer' is not defined"
     ]
    }
   ],
   "source": [
    "new_optimizer.maximize(\n",
    "    init_points=0,\n",
    "    n_iter=10,\n",
    ")\n",
    "\n"
   ]
  },
  {
   "cell_type": "markdown",
   "metadata": {},
   "source": [
    "Use Pandas for conversion between CSV and JSON files"
   ]
  },
  {
   "cell_type": "code",
   "execution_count": 23,
   "metadata": {},
   "outputs": [],
   "source": [
    "import pandas as pd\n",
    "def convert_json_to_readable_csv(json_file_path, csv_file_path):\n",
    "\n",
    "    \"\"\"\n",
    "    This function converts a JSON file to a readable CSV file with proper formatting and column names.\n",
    "    \"\"\"\n",
    "    #import JSON as a dataframe\n",
    "    data = pd.read_json(json_file_path, lines=True)\n",
    "\n",
    "    #flatten nested JSON fields\n",
    "    data = pd.json_normalize(data.to_dict(orient=\"records\"))\n",
    "\n",
    "\n",
    "    ## Below is an optional step to clean up the data and export it as a CSV file\n",
    "    # Rename columns for readability\n",
    "    data.rename(columns={\n",
    "        'target': 'Target Value',\n",
    "        'params.a': 'A',\n",
    "        'params.b': 'B',\n",
    "        'params.c': 'C',\n",
    "        'params.d': 'D',\n",
    "        'params.e': 'E',\n",
    "        'datetime.datetime': 'Timestamp',\n",
    "        'datetime.elapsed': 'Elapsed Time (s)',\n",
    "        'datetime.delta': 'Time Delta (s)'\n",
    "    }, inplace=True)\n",
    "\n",
    "    # Format the Timestamp to a more readable format if necessary\n",
    "    data['Timestamp'] = pd.to_datetime(data['Timestamp']).dt.strftime('%Y-%m-%d %H:%M:%S')\n",
    "\n",
    "    # Example to round numeric values to improve readability\n",
    "    data['Target Value'] = data['Target Value'].round(2)\n",
    "    data['A'] = data['A'].round(2)\n",
    "    data['B'] = data['B'].round(2)\n",
    "    data['C'] = data['C'].round(2)\n",
    "    data['D'] = data['D'].round(2)\n",
    "    data['E'] = data['E'].round(2)\n",
    "    data['Elapsed Time (s)'] = data['Elapsed Time (s)'].round(3)\n",
    "    data['Time Delta (s)'] = data['Time Delta (s)'].round(3)\n",
    "\n",
    "    #save dataframe to CSV\n",
    "    data.to_csv(csv_file_path, index=False)\n",
    "\n",
    "    print(\"JSON Log data has been exported as a CSV file to: {}\".format(csv_file_path))\n",
    "\n"
   ]
  },
  {
   "cell_type": "code",
   "execution_count": 24,
   "metadata": {},
   "outputs": [
    {
     "name": "stdout",
     "output_type": "stream",
     "text": [
      "JSON Log data has been exported as a CSV file to: ./logs/output-log.csv\n"
     ]
    }
   ],
   "source": [
    "convert_json_to_readable_csv(\"./logs/output-log.json\", \"./logs/output-log.csv\")"
   ]
  },
  {
   "cell_type": "code",
   "execution_count": null,
   "metadata": {},
   "outputs": [],
   "source": [
    "#TODO: Add conversion of JSON to CSV file\n",
    "#TODO: Add code to plot the data (aquisition function file has instructions)\n",
    "#TODO: Add code to save the plot as an image file\n",
    "#TODO: Add code to save the plot as an interactive HTML file\n",
    "\n",
    "\n",
    "\n"
   ]
  }
 ],
 "metadata": {
  "kernelspec": {
   "display_name": "bayesian",
   "language": "python",
   "name": "python3"
  },
  "language_info": {
   "codemirror_mode": {
    "name": "ipython",
    "version": 3
   },
   "file_extension": ".py",
   "mimetype": "text/x-python",
   "name": "python",
   "nbconvert_exporter": "python",
   "pygments_lexer": "ipython3",
   "version": "3.13.0"
  }
 },
 "nbformat": 4,
 "nbformat_minor": 2
}
