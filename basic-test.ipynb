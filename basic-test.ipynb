{
 "cells": [
  {
   "cell_type": "markdown",
   "metadata": {},
   "source": [
    "# Black Box function\n",
    "- Represents a generic function that we are trying to optimize\n",
    "- In this case, we use 5 inputs each representing an experimental control"
   ]
  },
  {
   "cell_type": "code",
   "execution_count": 5,
   "metadata": {},
   "outputs": [],
   "source": [
    "def black_box_function(a, b, c, d, e):\n",
    "    \"\"\"Function with unknown internals we wish to maximize.\n",
    "\n",
    "    This is just serving as an example, for all intents and\n",
    "    purposes think of the internals of this function, i.e.: the process\n",
    "    which generates its output values, as unknown.\n",
    "    \"\"\"\n",
    "    return -a * (2*b)**2 - (c - (1*d))**2 * (2*e)**2 + 1"
   ]
  },
  {
   "cell_type": "markdown",
   "metadata": {},
   "source": [
    "### Import Necessary Package"
   ]
  },
  {
   "cell_type": "code",
   "execution_count": 6,
   "metadata": {},
   "outputs": [],
   "source": [
    "from bayes_opt import BayesianOptimization"
   ]
  },
  {
   "cell_type": "markdown",
   "metadata": {},
   "source": [
    "### Set boundaries for input parameters\n",
    "- These are allowable entries for experimental control variables\n",
    "- In this case, we have arbitrary values selected for each input"
   ]
  },
  {
   "cell_type": "code",
   "execution_count": 7,
   "metadata": {},
   "outputs": [],
   "source": [
    "pbounds = {'a': (2, 4), 'b': (-3, 3), 'c': (-8, 3), 'd': (0, 5), 'e': (-2, 2)}"
   ]
  },
  {
   "cell_type": "code",
   "execution_count": 8,
   "metadata": {},
   "outputs": [],
   "source": [
    "optimizer = BayesianOptimization(\n",
    "    f=black_box_function, # sets function for optimization to our defined function above\n",
    "    pbounds=pbounds,# sets the bounds for each of the parameters to above set values\n",
    "    verbose=2,# verbose = 1 prints only when a maximum is observed, verbose = 0 is silent\n",
    "    random_state=1,\n",
    ")"
   ]
  },
  {
   "cell_type": "code",
   "execution_count": 9,
   "metadata": {},
   "outputs": [
    {
     "name": "stdout",
     "output_type": "stream",
     "text": [
      "|   iter    |  target   |     a     |     b     |     c     |     d     |     e     |\n",
      "-------------------------------------------------------------------------------------\n",
      "| \u001b[39m1        \u001b[39m | \u001b[39m-741.1   \u001b[39m | \u001b[39m2.834    \u001b[39m | \u001b[39m1.322    \u001b[39m | \u001b[39m-7.999   \u001b[39m | \u001b[39m1.512    \u001b[39m | \u001b[39m-1.413   \u001b[39m |\n",
      "| \u001b[35m2        \u001b[39m | \u001b[35m-33.65   \u001b[39m | \u001b[35m2.185    \u001b[39m | \u001b[35m-1.882   \u001b[39m | \u001b[35m-4.199   \u001b[39m | \u001b[35m1.984    \u001b[39m | \u001b[35m0.1553   \u001b[39m |\n",
      "| \u001b[39m3        \u001b[39m | \u001b[39m-1.483e+0\u001b[39m | \u001b[39m2.838    \u001b[39m | \u001b[39m1.111    \u001b[39m | \u001b[39m-5.751   \u001b[39m | \u001b[39m4.391    \u001b[39m | \u001b[39m-1.89    \u001b[39m |\n",
      "| \u001b[39m4        \u001b[39m | \u001b[39m-40.41   \u001b[39m | \u001b[39m3.341    \u001b[39m | \u001b[39m-0.4962  \u001b[39m | \u001b[39m-1.854   \u001b[39m | \u001b[39m0.7019   \u001b[39m | \u001b[39m-1.208   \u001b[39m |\n",
      "| \u001b[39m5        \u001b[39m | \u001b[39m-695.0   \u001b[39m | \u001b[39m3.601    \u001b[39m | \u001b[39m2.81     \u001b[39m | \u001b[39m-4.552   \u001b[39m | \u001b[39m3.462    \u001b[39m | \u001b[39m1.506    \u001b[39m |\n",
      "| \u001b[39m6        \u001b[39m | \u001b[39m-55.57   \u001b[39m | \u001b[39m2.521    \u001b[39m | \u001b[39m-2.34    \u001b[39m | \u001b[39m-2.395   \u001b[39m | \u001b[39m0.4218   \u001b[39m | \u001b[39m0.2083   \u001b[39m |\n",
      "| \u001b[39m7        \u001b[39m | \u001b[39m-56.68   \u001b[39m | \u001b[39m2.073    \u001b[39m | \u001b[39m-2.619   \u001b[39m | \u001b[39m-0.02991 \u001b[39m | \u001b[39m3.352    \u001b[39m | \u001b[39m-0.1322  \u001b[39m |\n",
      "| \u001b[35m8        \u001b[39m | \u001b[35m-9.273   \u001b[39m | \u001b[35m2.673    \u001b[39m | \u001b[35m0.259    \u001b[39m | \u001b[35m1.779    \u001b[39m | \u001b[35m0.7848   \u001b[39m | \u001b[35m1.554    \u001b[39m |\n",
      "=====================================================================================\n"
     ]
    }
   ],
   "source": [
    "optimizer.maximize(\n",
    "    init_points=5,\n",
    "    n_iter=3, \n",
    ")"
   ]
  },
  {
   "cell_type": "markdown",
   "metadata": {
    "vscode": {
     "languageId": "markdown"
    }
   },
   "source": [
    "The best combination of parameters and target value found can be accessed via the property `bo.max`."
   ]
  },
  {
   "cell_type": "code",
   "execution_count": 10,
   "metadata": {},
   "outputs": [
    {
     "name": "stdout",
     "output_type": "stream",
     "text": [
      "{'target': -9.272902545063692, 'params': {'a': 2.673141578780119, 'b': 0.259002547417742, 'c': 1.7792527885611076, 'd': 0.7847833439795421, 'e': 1.5542039374035834}}\n"
     ]
    }
   ],
   "source": [
    "print(optimizer.max)"
   ]
  },
  {
   "cell_type": "markdown",
   "metadata": {},
   "source": [
    "While the list of all parameters probed and their corresponding target values is available via the property `bo.res`.\n"
   ]
  },
  {
   "cell_type": "code",
   "execution_count": 11,
   "metadata": {},
   "outputs": [
    {
     "name": "stdout",
     "output_type": "stream",
     "text": [
      "Iteration 0: \n",
      "\t{'target': -741.1274533629198, 'params': {'a': 2.8340440094051482, 'b': 1.3219469606529488, 'c': -7.9987418770092065, 'd': 1.5116628631591988, 'e': -1.4129764367315478}}\n",
      "Iteration 1: \n",
      "\t{'target': -33.65239946885293, 'params': {'a': 2.1846771895375956, 'b': -1.8824387317339746, 'c': -4.1988320025264745, 'd': 1.9838373711533497, 'e': 0.15526693601342778}}\n",
      "Iteration 2: \n",
      "\t{'target': -1483.3160846306, 'params': {'a': 2.8383890288065894, 'b': 1.1113170023805568, 'c': -5.751025252953308, 'd': 4.390587181954727, 'e': -1.8904496272082953}}\n",
      "Iteration 3: \n",
      "\t{'target': -40.40895345986702, 'params': {'a': 3.3409350203568042, 'b': -0.4961711857972384, 'c': -1.8544118870967319, 'd': 0.7019346929761688, 'e': -1.2075940436604848}}\n",
      "Iteration 4: \n",
      "\t{'target': -695.0164547311152, 'params': {'a': 3.6014891373510736, 'b': 2.809569454316385, 'c': -4.552334040248329, 'd': 3.4616130783465704, 'e': 1.5055566091841532}}\n",
      "Iteration 5: \n",
      "\t{'target': -55.574013422140546, 'params': {'a': 2.5210033920207335, 'b': -2.339582763528385, 'c': -2.395319751950933, 'd': 0.4217923234796966, 'e': 0.20832418524938942}}\n",
      "Iteration 6: \n",
      "\t{'target': -56.67778330877957, 'params': {'a': 2.072766350308936, 'b': -2.619205104468952, 'c': -0.029914247184477105, 'd': 3.35171386164001, 'e': -0.13217551312001463}}\n",
      "Iteration 7: \n",
      "\t{'target': -9.272902545063692, 'params': {'a': 2.673141578780119, 'b': 0.259002547417742, 'c': 1.7792527885611076, 'd': 0.7847833439795421, 'e': 1.5542039374035834}}\n"
     ]
    }
   ],
   "source": [
    "for i, res in enumerate(optimizer.res):\n",
    "    print(\"Iteration {}: \\n\\t{}\".format(i, res))"
   ]
  },
  {
   "cell_type": "code",
   "execution_count": 12,
   "metadata": {},
   "outputs": [],
   "source": [
    "optimizer.set_bounds(new_bounds={'a': (-2, 3)})"
   ]
  },
  {
   "cell_type": "code",
   "execution_count": 13,
   "metadata": {},
   "outputs": [
    {
     "name": "stdout",
     "output_type": "stream",
     "text": [
      "|   iter    |  target   |     a     |     b     |     c     |     d     |     e     |\n",
      "-------------------------------------------------------------------------------------\n",
      "| \u001b[39m9        \u001b[39m | \u001b[39m-45.42   \u001b[39m | \u001b[39m-1.865   \u001b[39m | \u001b[39m-0.9422  \u001b[39m | \u001b[39m-1.04    \u001b[39m | \u001b[39m1.333    \u001b[39m | \u001b[39m1.535    \u001b[39m |\n",
      "| \u001b[39m10       \u001b[39m | \u001b[39m-41.86   \u001b[39m | \u001b[39m-0.3068  \u001b[39m | \u001b[39m-0.1481  \u001b[39m | \u001b[39m2.471    \u001b[39m | \u001b[39m0.6822   \u001b[39m | \u001b[39m-1.83    \u001b[39m |\n",
      "| \u001b[39m11       \u001b[39m | \u001b[39m-30.55   \u001b[39m | \u001b[39m-1.501   \u001b[39m | \u001b[39m1.165    \u001b[39m | \u001b[39m2.938    \u001b[39m | \u001b[39m4.771    \u001b[39m | \u001b[39m1.718    \u001b[39m |\n",
      "| \u001b[35m12       \u001b[39m | \u001b[35m35.13    \u001b[39m | \u001b[35m-1.449   \u001b[39m | \u001b[35m-2.885   \u001b[39m | \u001b[35m2.665    \u001b[39m | \u001b[35m1.724    \u001b[39m | \u001b[35m1.997    \u001b[39m |\n",
      "| \u001b[39m13       \u001b[39m | \u001b[39m-463.2   \u001b[39m | \u001b[39m-1.253   \u001b[39m | \u001b[39m-2.893   \u001b[39m | \u001b[39m-6.541   \u001b[39m | \u001b[39m0.02149  \u001b[39m | \u001b[39m1.714    \u001b[39m |\n",
      "=====================================================================================\n"
     ]
    }
   ],
   "source": [
    "optimizer.maximize(\n",
    "    init_points=0,\n",
    "    n_iter=5,\n",
    ")"
   ]
  },
  {
   "cell_type": "markdown",
   "metadata": {},
   "source": [
    "## 3. Guiding the optimization\n",
    "\n",
    "It is often the case that we have an idea of regions of the parameter space where the maximum of our function might lie. For these situations the `BayesianOptimization` object allows the user to specify specific points to be probed. By default these will be explored lazily (`lazy=True`), meaning these points will be evaluated only the next time you call `maximize`. This probing process happens before the gaussian process takes over.\n",
    "\n",
    "Parameters can be passed as dictionaries such as below:"
   ]
  },
  {
   "cell_type": "code",
   "execution_count": 14,
   "metadata": {},
   "outputs": [],
   "source": [
    "optimizer.probe(\n",
    "    params={\"a\":1, \"b\":-1, \"c\":-5, \"d\":3, \"e\":0},\n",
    "    lazy=True,\n",
    ")"
   ]
  },
  {
   "cell_type": "code",
   "execution_count": 15,
   "metadata": {},
   "outputs": [
    {
     "name": "stdout",
     "output_type": "stream",
     "text": [
      "['a', 'b', 'c', 'd', 'e']\n"
     ]
    }
   ],
   "source": [
    "print(optimizer.space.keys)"
   ]
  },
  {
   "cell_type": "code",
   "execution_count": 16,
   "metadata": {},
   "outputs": [],
   "source": [
    "optimizer.probe(\n",
    "    params=[1, -1, -5, 3, 0],\n",
    "    lazy=True,\n",
    ")"
   ]
  },
  {
   "cell_type": "code",
   "execution_count": 17,
   "metadata": {},
   "outputs": [
    {
     "name": "stdout",
     "output_type": "stream",
     "text": [
      "|   iter    |  target   |     a     |     b     |     c     |     d     |     e     |\n",
      "-------------------------------------------------------------------------------------\n",
      "| \u001b[39m14       \u001b[39m | \u001b[39m-3.0     \u001b[39m | \u001b[39m1.0      \u001b[39m | \u001b[39m-1.0     \u001b[39m | \u001b[39m-5.0     \u001b[39m | \u001b[39m3.0      \u001b[39m | \u001b[39m0.0      \u001b[39m |\n",
      "| \u001b[39m15       \u001b[39m | \u001b[39m-3.0     \u001b[39m | \u001b[39m1.0      \u001b[39m | \u001b[39m-1.0     \u001b[39m | \u001b[39m-5.0     \u001b[39m | \u001b[39m3.0      \u001b[39m | \u001b[39m0.0      \u001b[39m |\n",
      "=====================================================================================\n"
     ]
    }
   ],
   "source": [
    "optimizer.maximize(\n",
    "    init_points=0,\n",
    "    n_iter=0,\n",
    ")"
   ]
  },
  {
   "cell_type": "markdown",
   "metadata": {},
   "source": [
    "## 2. Getting Started\n",
    "\n",
    "All we need to get started is to instantiate a `BayesianOptimization` object specifying a function to be optimized `f`, and its parameters with their corresponding bounds, `pbounds`. This is a constrained optimization technique, so you must specify the minimum and maximum values that can be probed for each parameter in order for it to work"
   ]
  },
  {
   "cell_type": "code",
   "execution_count": 18,
   "metadata": {},
   "outputs": [],
   "source": [
    "from bayes_opt.logger import JSONLogger\n",
    "from bayes_opt.event import Events"
   ]
  },
  {
   "cell_type": "markdown",
   "metadata": {},
   "source": [
    "The observer paradigm works by:\n",
    "1. Instantiating an observer object.\n",
    "2. Tying the observer object to a particular event fired by an optimizer.\n",
    "\n",
    "The `BayesianOptimization` object fires a number of internal events during optimization, in particular, every time it probes the function and obtains a new parameter-target combination it will fire an `Events.OPTIMIZATION_STEP` event, which our logger will listen to.\n",
    "\n",
    "**Caveat:** The logger will not look back at previously probed points."
   ]
  },
  {
   "cell_type": "code",
   "execution_count": 19,
   "metadata": {},
   "outputs": [],
   "source": [
    "logger = JSONLogger(path=\"./logs/output-log.json\")\n",
    "optimizer.subscribe(Events.OPTIMIZATION_STEP, logger)"
   ]
  },
  {
   "cell_type": "code",
   "execution_count": 20,
   "metadata": {},
   "outputs": [
    {
     "name": "stdout",
     "output_type": "stream",
     "text": [
      "|   iter    |  target   |     a     |     b     |     c     |     d     |     e     |\n",
      "-------------------------------------------------------------------------------------\n",
      "| \u001b[39m16       \u001b[39m | \u001b[39m-709.1   \u001b[39m | \u001b[39m2.473    \u001b[39m | \u001b[39m-2.49    \u001b[39m | \u001b[39m-7.57    \u001b[39m | \u001b[39m0.8492   \u001b[39m | \u001b[39m1.513    \u001b[39m |\n",
      "| \u001b[39m17       \u001b[39m | \u001b[39m2.313    \u001b[39m | \u001b[39m-1.508   \u001b[39m | \u001b[39m-0.4734  \u001b[39m | \u001b[39m2.537    \u001b[39m | \u001b[39m2.666    \u001b[39m | \u001b[39m0.7675   \u001b[39m |\n",
      "| \u001b[39m18       \u001b[39m | \u001b[39m-454.3   \u001b[39m | \u001b[39m-0.457   \u001b[39m | \u001b[39m-2.938   \u001b[39m | \u001b[39m-3.433   \u001b[39m | \u001b[39m4.582    \u001b[39m | \u001b[39m1.354    \u001b[39m |\n",
      "| \u001b[39m19       \u001b[39m | \u001b[39m-221.5   \u001b[39m | \u001b[39m-0.1408  \u001b[39m | \u001b[39m-1.262   \u001b[39m | \u001b[39m-2.872   \u001b[39m | \u001b[39m0.9391   \u001b[39m | \u001b[39m-1.961   \u001b[39m |\n",
      "| \u001b[39m20       \u001b[39m | \u001b[39m-86.93   \u001b[39m | \u001b[39m1.965    \u001b[39m | \u001b[39m-2.702   \u001b[39m | \u001b[39m2.937    \u001b[39m | \u001b[39m0.00245  \u001b[39m | \u001b[39m0.9418   \u001b[39m |\n",
      "=====================================================================================\n"
     ]
    }
   ],
   "source": [
    "optimizer.maximize(\n",
    "    init_points=2,\n",
    "    n_iter=3,\n",
    ")"
   ]
  },
  {
   "cell_type": "code",
   "execution_count": 21,
   "metadata": {},
   "outputs": [],
   "source": [
    "from bayes_opt.util import load_logs"
   ]
  },
  {
   "cell_type": "code",
   "execution_count": 22,
   "metadata": {},
   "outputs": [
    {
     "name": "stdout",
     "output_type": "stream",
     "text": [
      "0\n"
     ]
    }
   ],
   "source": [
    "new_optimizer = BayesianOptimization(\n",
    "    f=black_box_function,\n",
    "    pbounds=pbounds,\n",
    "    verbose=2,\n",
    "    random_state=7,\n",
    ")\n",
    "print(len(new_optimizer.space))"
   ]
  },
  {
   "cell_type": "code",
   "execution_count": 23,
   "metadata": {},
   "outputs": [
    {
     "name": "stderr",
     "output_type": "stream",
     "text": [
      "/home/tony/miniconda3/envs/bayesian/lib/python3.12/site-packages/bayes_opt/bayesian_optimization.py:223: UserWarning: \n",
      "Data point [-1.50826583 -0.47335425  2.53678483  2.66582642  0.76750846] is outside the bounds of the parameter space. \n",
      "  self._space.register(params, target, constraint_value)\n",
      "/home/tony/miniconda3/envs/bayesian/lib/python3.12/site-packages/bayes_opt/bayesian_optimization.py:223: UserWarning: \n",
      "Data point [-0.45701499 -2.93819745 -3.43338351  4.58166153  1.3539277 ] is outside the bounds of the parameter space. \n",
      "  self._space.register(params, target, constraint_value)\n",
      "/home/tony/miniconda3/envs/bayesian/lib/python3.12/site-packages/bayes_opt/bayesian_optimization.py:223: UserWarning: \n",
      "Data point [-0.14083436 -1.26232533 -2.87175052  0.93911254 -1.96086536] is outside the bounds of the parameter space. \n",
      "  self._space.register(params, target, constraint_value)\n",
      "/home/tony/miniconda3/envs/bayesian/lib/python3.12/site-packages/bayes_opt/bayesian_optimization.py:223: UserWarning: \n",
      "Data point [ 1.96508147e+00 -2.70188863e+00  2.93685902e+00  2.44989330e-03\n",
      "  9.41824087e-01] is outside the bounds of the parameter space. \n",
      "  self._space.register(params, target, constraint_value)\n"
     ]
    },
    {
     "data": {
      "text/plain": [
       "<bayes_opt.bayesian_optimization.BayesianOptimization at 0x7f8540585d60>"
      ]
     },
     "execution_count": 23,
     "metadata": {},
     "output_type": "execute_result"
    }
   ],
   "source": [
    "load_logs(new_optimizer, logs=[\"./logs/output-log.json\"])"
   ]
  },
  {
   "cell_type": "code",
   "execution_count": 24,
   "metadata": {},
   "outputs": [
    {
     "name": "stdout",
     "output_type": "stream",
     "text": [
      "New optimizer is now aware of 5 points of data.\n"
     ]
    }
   ],
   "source": [
    "print(\"New optimizer is now aware of {} points of data.\".format(len(new_optimizer.space)))"
   ]
  },
  {
   "cell_type": "code",
   "execution_count": 25,
   "metadata": {},
   "outputs": [
    {
     "name": "stdout",
     "output_type": "stream",
     "text": [
      "|   iter    |  target   |     a     |     b     |     c     |     d     |     e     |\n",
      "-------------------------------------------------------------------------------------\n",
      "| \u001b[39m1        \u001b[39m | \u001b[39m-215.0   \u001b[39m | \u001b[39m2.0      \u001b[39m | \u001b[39m3.0      \u001b[39m | \u001b[39m3.0      \u001b[39m | \u001b[39m0.0      \u001b[39m | \u001b[39m-2.0     \u001b[39m |\n",
      "| \u001b[35m2        \u001b[39m | \u001b[35m-164.1   \u001b[39m | \u001b[35m3.166    \u001b[39m | \u001b[35m-2.893   \u001b[39m | \u001b[35m2.576    \u001b[39m | \u001b[35m4.982    \u001b[39m | \u001b[35m-1.598   \u001b[39m |\n",
      "| \u001b[35m3        \u001b[39m | \u001b[35m-112.2   \u001b[39m | \u001b[35m2.205    \u001b[39m | \u001b[35m2.95     \u001b[39m | \u001b[35m2.493    \u001b[39m | \u001b[35m4.825    \u001b[39m | \u001b[35m1.296    \u001b[39m |\n",
      "| \u001b[35m4        \u001b[39m | \u001b[35m-48.46   \u001b[39m | \u001b[35m2.681    \u001b[39m | \u001b[35m-1.126   \u001b[39m | \u001b[35m2.978    \u001b[39m | \u001b[35m4.512    \u001b[39m | \u001b[35m1.952    \u001b[39m |\n",
      "| \u001b[39m5        \u001b[39m | \u001b[39m-88.41   \u001b[39m | \u001b[39m2.61     \u001b[39m | \u001b[39m1.068    \u001b[39m | \u001b[39m2.844    \u001b[39m | \u001b[39m0.5698   \u001b[39m | \u001b[39m1.936    \u001b[39m |\n",
      "| \u001b[39m6        \u001b[39m | \u001b[39m-835.5   \u001b[39m | \u001b[39m2.658    \u001b[39m | \u001b[39m2.629    \u001b[39m | \u001b[39m-2.355   \u001b[39m | \u001b[39m4.871    \u001b[39m | \u001b[39m-1.911   \u001b[39m |\n",
      "| \u001b[39m7        \u001b[39m | \u001b[39m-115.9   \u001b[39m | \u001b[39m3.492    \u001b[39m | \u001b[39m-2.856   \u001b[39m | \u001b[39m0.5362   \u001b[39m | \u001b[39m0.05154  \u001b[39m | \u001b[39m-1.776   \u001b[39m |\n",
      "| \u001b[35m8        \u001b[39m | \u001b[35m-17.01   \u001b[39m | \u001b[35m2.106    \u001b[39m | \u001b[35m-1.401   \u001b[39m | \u001b[35m2.94     \u001b[39m | \u001b[35m2.599    \u001b[39m | \u001b[35m-1.784   \u001b[39m |\n",
      "| \u001b[35m9        \u001b[39m | \u001b[35m-4.959   \u001b[39m | \u001b[35m3.919    \u001b[39m | \u001b[35m-0.6161  \u001b[39m | \u001b[35m2.908    \u001b[39m | \u001b[35m2.263    \u001b[39m | \u001b[35m0.07636  \u001b[39m |\n",
      "| \u001b[39m10       \u001b[39m | \u001b[39m-213.7   \u001b[39m | \u001b[39m3.526    \u001b[39m | \u001b[39m-2.713   \u001b[39m | \u001b[39m2.87     \u001b[39m | \u001b[39m0.08723  \u001b[39m | \u001b[39m-1.891   \u001b[39m |\n",
      "=====================================================================================\n"
     ]
    }
   ],
   "source": [
    "new_optimizer.maximize(\n",
    "    init_points=0,\n",
    "    n_iter=10,\n",
    ")"
   ]
  },
  {
   "cell_type": "markdown",
   "metadata": {},
   "source": [
    "Use Pandas for conversion between CSV and JSON files"
   ]
  },
  {
   "cell_type": "code",
   "execution_count": 26,
   "metadata": {},
   "outputs": [],
   "source": [
    "import pandas as pd\n",
    "def convert_json_to_readable_csv(json_file_path, csv_file_path):\n",
    "\n",
    "    \"\"\"\n",
    "    This function converts a JSON file to a readable CSV file with proper formatting and column names.\n",
    "    \"\"\"\n",
    "    #import JSON as a dataframe\n",
    "    data = pd.read_json(json_file_path, lines=True)\n",
    "\n",
    "    #flatten nested JSON fields\n",
    "    data = pd.json_normalize(data.to_dict(orient=\"records\"))\n",
    "\n",
    "\n",
    "    ## Below is an optional step to clean up the data and export it as a CSV file\n",
    "    # Rename columns for readability\n",
    "    data.rename(columns={\n",
    "        'target': 'Target Value',\n",
    "        'params.a': 'A',\n",
    "        'params.b': 'B',\n",
    "        'params.c': 'C',\n",
    "        'params.d': 'D',\n",
    "        'params.e': 'E',\n",
    "        'datetime.datetime': 'Timestamp',\n",
    "        'datetime.elapsed': 'Elapsed Time (s)',\n",
    "        'datetime.delta': 'Time Delta (s)'\n",
    "    }, inplace=True)\n",
    "\n",
    "    # Format the Timestamp to a more readable format if necessary\n",
    "    data['Timestamp'] = pd.to_datetime(data['Timestamp']).dt.strftime('%Y-%m-%d %H:%M:%S')\n",
    "\n",
    "    # Example to round numeric values to improve readability\n",
    "    data['Target Value'] = data['Target Value'].round(2)\n",
    "    data['A'] = data['A'].round(2)\n",
    "    data['B'] = data['B'].round(2)\n",
    "    data['C'] = data['C'].round(2)\n",
    "    data['D'] = data['D'].round(2)\n",
    "    data['E'] = data['E'].round(2)\n",
    "    data['Elapsed Time (s)'] = data['Elapsed Time (s)'].round(3)\n",
    "    data['Time Delta (s)'] = data['Time Delta (s)'].round(3)\n",
    "\n",
    "    #save dataframe to CSV\n",
    "    data.to_csv(csv_file_path, index=False)\n",
    "\n",
    "    print(\"JSON Log data has been exported as a CSV file to: {}\".format(csv_file_path))\n",
    "\n"
   ]
  },
  {
   "cell_type": "code",
   "execution_count": 27,
   "metadata": {},
   "outputs": [
    {
     "name": "stdout",
     "output_type": "stream",
     "text": [
      "JSON Log data has been exported as a CSV file to: ./logs/output-log.csv\n"
     ]
    }
   ],
   "source": [
    "convert_json_to_readable_csv(\"./logs/output-log.json\", \"./logs/output-log.csv\")"
   ]
  },
  {
   "cell_type": "code",
   "execution_count": null,
   "metadata": {},
   "outputs": [],
   "source": [
    "#TODO: Add conversion of JSON to CSV file\n",
    "#TODO: Add code to plot the data (aquisition function file has instructions)\n",
    "#TODO: Add code to save the plot as an image file\n",
    "#TODO: Add code to save the plot as an interactive HTML file\n"
   ]
  }
 ],
 "metadata": {
  "kernelspec": {
   "display_name": "bayesian",
   "language": "python",
   "name": "python3"
  },
  "language_info": {
   "codemirror_mode": {
    "name": "ipython",
    "version": 3
   },
   "file_extension": ".py",
   "mimetype": "text/x-python",
   "name": "python",
   "nbconvert_exporter": "python",
   "pygments_lexer": "ipython3",
   "version": "3.13.0"
  }
 },
 "nbformat": 4,
 "nbformat_minor": 2
}
