{
 "cells": [
  {
   "cell_type": "markdown",
   "metadata": {},
   "source": [
    "# Initial Environment setup\n",
    "- After opening this folder in VS Code:\n",
    "    - Press `Ctrl+Shift+`` to bring up the terminal\n",
    "- Run the following command:\n",
    "    - `conda env create -f environment.yaml`\n",
    "    - This will have Conda install environment and setup [Google Vizier's Open Source Optimizer](https://github.com/google/vizier)"
   ]
  },
  {
   "cell_type": "code",
   "execution_count": 1,
   "metadata": {},
   "outputs": [
    {
     "name": "stderr",
     "output_type": "stream",
     "text": [
      "WARNING:absl:Python 3.8+ is required in this case.\n",
      "WARNING:jax._src.xla_bridge:An NVIDIA GPU may be present on this machine, but a CUDA-enabled jaxlib is not installed. Falling back to cpu.\n"
     ]
    }
   ],
   "source": [
    "from vizier.service import clients\n",
    "from vizier.service import pyvizier as vz\n",
    "\n",
    "# Objective function to maximize.\n",
    "def evaluate(w: float, x: int, y: float, z: str) -> float:\n",
    "  return w**2 - y**2 + x * ord(z)\n",
    "\n",
    "# Algorithm, search space, and metrics.\n",
    "study_config = vz.StudyConfig(algorithm='DEFAULT')\n",
    "study_config.search_space.root.add_float_param('w', 0.0, 5.0)\n",
    "study_config.search_space.root.add_int_param('x', -2, 2)\n",
    "study_config.search_space.root.add_discrete_param('y', [0.3, 7.2])\n",
    "study_config.search_space.root.add_categorical_param('z', ['a', 'g', 'k'])\n",
    "study_config.metric_information.append(vz.MetricInformation('metric_name', goal=vz.ObjectiveMetricGoal.MAXIMIZE))\n",
    "\n",
    "# Setup client and begin optimizWation. Vizier Service will be implicitly created.\n",
    "study = clients.Study.from_study_config(study_config, owner='my_name', study_id='example')\n",
    "for i in range(10):\n",
    "  suggestions = study.suggest(count=2)\n",
    "  for suggestion in suggestions:\n",
    "    params = suggestion.parameters\n",
    "    objective = evaluate(params['w'], params['x'], params['y'], params['z'])\n",
    "    suggestion.complete(vz.Measurement({'metric_name': objective}))"
   ]
  },
  {
   "cell_type": "code",
   "execution_count": null,
   "metadata": {},
   "outputs": [],
   "source": []
  }
 ],
 "metadata": {
  "kernelspec": {
   "display_name": "bayop",
   "language": "python",
   "name": "python3"
  },
  "language_info": {
   "codemirror_mode": {
    "name": "ipython",
    "version": 3
   },
   "file_extension": ".py",
   "mimetype": "text/x-python",
   "name": "python",
   "nbconvert_exporter": "python",
   "pygments_lexer": "ipython3",
   "version": "3.12.7"
  }
 },
 "nbformat": 4,
 "nbformat_minor": 2
}
