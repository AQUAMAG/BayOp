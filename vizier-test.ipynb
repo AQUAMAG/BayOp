{
 "cells": [
  {
   "cell_type": "markdown",
   "metadata": {},
   "source": [
    "# Initial Environment setup\n",
    "- After opening this folder in VS Code:\n",
    "    - Press ``Ctrl + Shift + ` `` to bring up the terminal\n",
    "- Run the following command:\n",
    "    - `conda env create -f environment.yaml`\n",
    "    - This will have Conda install environment and setup [Google Vizier's Open Source Optimizer](https://github.com/google/vizier)"
   ]
  },
  {
   "cell_type": "code",
   "execution_count": null,
   "metadata": {},
   "outputs": [
    {
     "name": "stderr",
     "output_type": "stream",
     "text": [
      "WARNING:absl:Python 3.8+ is required in this case.\n"
     ]
    },
    {
     "ename": "TypeError",
     "evalue": "unsupported operand type(s) for -: 'float' and 'str'",
     "output_type": "error",
     "traceback": [
      "\u001b[0;31m---------------------------------------------------------------------------\u001b[0m",
      "\u001b[0;31mTypeError\u001b[0m                                 Traceback (most recent call last)",
      "Cell \u001b[0;32mIn[4], line 25\u001b[0m\n\u001b[1;32m     23\u001b[0m \u001b[38;5;28;01mfor\u001b[39;00m suggestion \u001b[38;5;129;01min\u001b[39;00m suggestions:\n\u001b[1;32m     24\u001b[0m   params \u001b[38;5;241m=\u001b[39m suggestion\u001b[38;5;241m.\u001b[39mparameters\n\u001b[0;32m---> 25\u001b[0m   objective \u001b[38;5;241m=\u001b[39m \u001b[43mevaluate\u001b[49m\u001b[43m(\u001b[49m\u001b[43mparams\u001b[49m\u001b[43m[\u001b[49m\u001b[38;5;124;43m'\u001b[39;49m\u001b[38;5;124;43mw\u001b[39;49m\u001b[38;5;124;43m'\u001b[39;49m\u001b[43m]\u001b[49m\u001b[43m,\u001b[49m\u001b[43m \u001b[49m\u001b[43mparams\u001b[49m\u001b[43m[\u001b[49m\u001b[38;5;124;43m'\u001b[39;49m\u001b[38;5;124;43mx\u001b[39;49m\u001b[38;5;124;43m'\u001b[39;49m\u001b[43m]\u001b[49m\u001b[43m,\u001b[49m\u001b[43m \u001b[49m\u001b[43mparams\u001b[49m\u001b[43m[\u001b[49m\u001b[38;5;124;43m'\u001b[39;49m\u001b[38;5;124;43my\u001b[39;49m\u001b[38;5;124;43m'\u001b[39;49m\u001b[43m]\u001b[49m\u001b[43m,\u001b[49m\u001b[43m \u001b[49m\u001b[43mparams\u001b[49m\u001b[43m[\u001b[49m\u001b[38;5;124;43m'\u001b[39;49m\u001b[38;5;124;43mz\u001b[39;49m\u001b[38;5;124;43m'\u001b[39;49m\u001b[43m]\u001b[49m\u001b[43m)\u001b[49m\n\u001b[1;32m     26\u001b[0m   suggestion\u001b[38;5;241m.\u001b[39mcomplete(vz\u001b[38;5;241m.\u001b[39mMeasurement({\u001b[38;5;124m'\u001b[39m\u001b[38;5;124mmetric_name\u001b[39m\u001b[38;5;124m'\u001b[39m: objective}))\n",
      "Cell \u001b[0;32mIn[4], line 6\u001b[0m, in \u001b[0;36mevaluate\u001b[0;34m(w, x, y, z)\u001b[0m\n\u001b[1;32m      5\u001b[0m \u001b[38;5;28;01mdef\u001b[39;00m \u001b[38;5;21mevaluate\u001b[39m(w: \u001b[38;5;28mint\u001b[39m, x: \u001b[38;5;28mint\u001b[39m, y: \u001b[38;5;28mint\u001b[39m, z: \u001b[38;5;28mint\u001b[39m) \u001b[38;5;241m-\u001b[39m\u001b[38;5;241m>\u001b[39m \u001b[38;5;28mint\u001b[39m:\n\u001b[0;32m----> 6\u001b[0m   \u001b[38;5;28;01mreturn\u001b[39;00m \u001b[38;5;241m-\u001b[39mw \u001b[38;5;241m*\u001b[39m (\u001b[38;5;241m2\u001b[39m\u001b[38;5;241m*\u001b[39mx)\u001b[38;5;241m*\u001b[39m\u001b[38;5;241m*\u001b[39m\u001b[38;5;241m2\u001b[39m \u001b[38;5;241m-\u001b[39m (\u001b[43my\u001b[49m\u001b[43m \u001b[49m\u001b[38;5;241;43m-\u001b[39;49m\u001b[43m \u001b[49m\u001b[43m(\u001b[49m\u001b[38;5;241;43m1\u001b[39;49m\u001b[38;5;241;43m*\u001b[39;49m\u001b[43mz\u001b[49m\u001b[43m)\u001b[49m)\u001b[38;5;241m*\u001b[39m\u001b[38;5;241m*\u001b[39m\u001b[38;5;241m2\u001b[39m\n",
      "\u001b[0;31mTypeError\u001b[0m: unsupported operand type(s) for -: 'float' and 'str'"
     ]
    }
   ],
   "source": [
    "from vizier.service import clients\n",
    "from vizier.service import pyvizier as vz\n",
    "\n",
    "# Objective function to maximize.\n",
    "def evaluate(w: int, x: int, y: int, z: int) -> int:\n",
    "  return -w * (2*x)**2 - (y - (1*z))**2\n",
    "\n",
    "\n",
    "\n",
    "\n",
    "# Algorithm, search space, and metrics.\n",
    "study_config = vz.StudyConfig(algorithm='GP_UCB_PE')\n",
    "study_config.search_space.root.add_int_param('w', 2, 4)\n",
    "study_config.search_space.root.add_int_param('x', -3, 3)\n",
    "study_config.search_space.root.add_int_param('y', -2, 2)\n",
    "study_config.search_space.root.add_int_param('z', -8, 3)\n",
    "study_config.metric_information.append(vz.MetricInformation('metric_name', goal=vz.ObjectiveMetricGoal.MAXIMIZE))\n",
    "\n",
    "# Setup client and begin optimization. Vizier Service will be implicitly created.\n",
    "study = clients.Study.from_study_config(study_config, owner='my_name', study_id='example')\n",
    "for i in range(10):\n",
    "  suggestions = study.suggest(count=3)\n",
    "  for suggestion in suggestions:\n",
    "    params = suggestion.parameters\n",
    "    objective = evaluate(params['w'], params['x'], params['y'], params['z'])\n",
    "    suggestion.complete(vz.Measurement({'metric_name': objective}))"
   ]
  },
  {
   "cell_type": "code",
   "execution_count": null,
   "metadata": {},
   "outputs": [],
   "source": []
  }
 ],
 "metadata": {
  "kernelspec": {
   "display_name": "bayop",
   "language": "python",
   "name": "python3"
  },
  "language_info": {
   "codemirror_mode": {
    "name": "ipython",
    "version": 3
   },
   "file_extension": ".py",
   "mimetype": "text/x-python",
   "name": "python",
   "nbconvert_exporter": "python",
   "pygments_lexer": "ipython3",
   "version": "3.10.15"
  }
 },
 "nbformat": 4,
 "nbformat_minor": 2
}
