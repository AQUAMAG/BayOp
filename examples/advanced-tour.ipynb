{
 "cells": [
  {
   "cell_type": "markdown",
   "metadata": {},
   "source": [
    "# Advanced tour of the Bayesian Optimization package"
   ]
  },
  {
   "cell_type": "code",
   "execution_count": 1,
   "metadata": {},
   "outputs": [],
   "source": [
    "from bayes_opt import BayesianOptimization"
   ]
  },
  {
   "cell_type": "markdown",
   "metadata": {},
   "source": [
    "## 1. Suggest-Evaluate-Register Paradigm\n",
    "\n",
    "Internally the `maximize` method is simply a wrapper around the methods `suggest`, `probe`, and `register`. If you need more control over your optimization loops the Suggest-Evaluate-Register paradigm should give you that extra flexibility.\n",
    "\n",
    "For an example of running the `BayesianOptimization` in a distributed fashion (where the function being optimized is evaluated concurrently in different cores/machines/servers), checkout the `async_optimization.py` script in the examples folder."
   ]
  },
  {
   "cell_type": "code",
   "execution_count": 2,
   "metadata": {},
   "outputs": [],
   "source": [
    "# Let's start by defining our function, bounds, and instantiating an optimization object.\n",
    "def black_box_function(x, y):\n",
    "    return -x ** 2 - (y - 1) ** 2 + 1"
   ]
  },
  {
   "cell_type": "markdown",
   "metadata": {},
   "source": [
    "One extra ingredient we will need is an `AcquisitionFunction`, such as `acquisition.UpperConfidenceBound`. In case it is not clear why, take a look at the literature to understand better how this method works."
   ]
  },
  {
   "cell_type": "code",
   "execution_count": 3,
   "metadata": {},
   "outputs": [],
   "source": [
    "from bayes_opt import acquisition\n",
    "\n",
    "acq = acquisition.UpperConfidenceBound(kappa=2.5)"
   ]
  },
  {
   "cell_type": "markdown",
   "metadata": {},
   "source": [
    "Notice that the evaluation of the blackbox function will NOT be carried out by the optimizer object. We are simulating a situation where this function could be being executed in a different machine, maybe it is written in another language, or it could even be the result of a chemistry experiment. Whatever the case may be, you can take charge of it and as long as you don't invoke the `probe` or `maximize` methods directly, the optimizer object will ignore the blackbox function."
   ]
  },
  {
   "cell_type": "code",
   "execution_count": 4,
   "metadata": {},
   "outputs": [],
   "source": [
    "optimizer = BayesianOptimization(\n",
    "    f=None,\n",
    "    acquisition_function=acq,\n",
    "    pbounds={'x': (-2, 2), 'y': (-3, 3)},\n",
    "    verbose=2,\n",
    "    random_state=1,\n",
    ")"
   ]
  },
  {
   "cell_type": "markdown",
   "metadata": {},
   "source": [
    "The `suggest` method of our optimizer can be called at any time. What you get back is a suggestion for the next parameter combination the optimizer wants to probe.\n",
    "\n",
    "Notice that while the optimizer hasn't observed any points, the suggestions will be random. However, they will stop being random and improve in quality the more points are observed."
   ]
  },
  {
   "cell_type": "code",
   "execution_count": 5,
   "metadata": {},
   "outputs": [
    {
     "name": "stdout",
     "output_type": "stream",
     "text": [
      "Next point to probe is: {'x': np.float64(-0.331911981189704), 'y': np.float64(1.3219469606529488)}\n"
     ]
    }
   ],
   "source": [
    "next_point_to_probe = optimizer.suggest()\n",
    "print(\"Next point to probe is:\", next_point_to_probe)"
   ]
  },
  {
   "cell_type": "markdown",
   "metadata": {},
   "source": [
    "You are now free to evaluate your function at the suggested point however/whenever you like."
   ]
  },
  {
   "cell_type": "code",
   "execution_count": 6,
   "metadata": {},
   "outputs": [
    {
     "name": "stdout",
     "output_type": "stream",
     "text": [
      "Found the target value to be: 0.7861845912690542\n"
     ]
    }
   ],
   "source": [
    "target = black_box_function(**next_point_to_probe)\n",
    "print(\"Found the target value to be:\", target)"
   ]
  },
  {
   "cell_type": "markdown",
   "metadata": {},
   "source": [
    "Last thing left to do is to tell the optimizer what target value was observed."
   ]
  },
  {
   "cell_type": "code",
   "execution_count": 7,
   "metadata": {},
   "outputs": [],
   "source": [
    "optimizer.register(\n",
    "    params=next_point_to_probe,\n",
    "    target=target,\n",
    ")"
   ]
  },
  {
   "cell_type": "markdown",
   "metadata": {},
   "source": [
    "### 1.1 The maximize loop\n",
    "\n",
    "And that's it. By repeating the steps above you recreate the internals of the `maximize` method. This should give you all the flexibility you need to log progress, hault execution, perform concurrent evaluations, etc."
   ]
  },
  {
   "cell_type": "code",
   "execution_count": 8,
   "metadata": {},
   "outputs": [
    {
     "name": "stdout",
     "output_type": "stream",
     "text": [
      "-18.78884297823679 {'x': np.float64(1.9579622773417604), 'y': np.float64(-2.994399416526026)}\n",
      "-2.6763834993198454 {'x': np.float64(1.1883484729521672), 'y': np.float64(2.5047296787636304)}\n",
      "-6.712353762722509 {'x': np.float64(-1.9516583378778298), 'y': np.float64(2.9756982297189154)}\n",
      "-4.461747398722681 {'x': np.float64(-1.9546224382599013), 'y': np.float64(-0.281092706471159)}\n",
      "-0.6789761563030992 {'x': np.float64(1.1935847472163812), 'y': np.float64(0.49568699450092835)}\n",
      "{'target': np.float64(0.7861845912690542), 'params': {'x': np.float64(-0.331911981189704), 'y': np.float64(1.3219469606529488)}}\n"
     ]
    }
   ],
   "source": [
    "for _ in range(5):\n",
    "    next_point = optimizer.suggest()\n",
    "    target = black_box_function(**next_point)\n",
    "    optimizer.register(params=next_point, target=target)\n",
    "    \n",
    "    print(target, next_point)\n",
    "print(optimizer.max)"
   ]
  },
  {
   "cell_type": "markdown",
   "metadata": {},
   "source": [
    "## 2. Dealing with discrete parameters\n",
    "\n",
    "**There is no principled way of dealing with discrete parameters using this package.**\n",
    "\n",
    "Ok, now that we got that out of the way, how do you do it? You're bound to be in a situation where some of your function's parameters may only take on discrete values. Unfortunately, the nature of bayesian optimization with gaussian processes doesn't allow for an easy/intuitive way of dealing with discrete parameters - but that doesn't mean it is impossible. The example below showcases a simple, yet reasonably adequate, way to dealing with discrete parameters."
   ]
  },
  {
   "cell_type": "code",
   "execution_count": 9,
   "metadata": {},
   "outputs": [],
   "source": [
    "def func_with_discrete_params(x, y, d):\n",
    "    # Simulate necessity of having d being discrete.\n",
    "    assert type(d) == int\n",
    "    \n",
    "    return ((x + y + d) // (1 + d)) / (1 + (x + y) ** 2)"
   ]
  },
  {
   "cell_type": "code",
   "execution_count": 10,
   "metadata": {},
   "outputs": [],
   "source": [
    "def function_to_be_optimized(x, y, w):\n",
    "    d = int(w)\n",
    "    return func_with_discrete_params(x, y, d)"
   ]
  },
  {
   "cell_type": "code",
   "execution_count": 11,
   "metadata": {},
   "outputs": [],
   "source": [
    "optimizer = BayesianOptimization(\n",
    "    f=function_to_be_optimized,\n",
    "    pbounds={'x': (-10, 10), 'y': (-10, 10), 'w': (0, 5)},\n",
    "    verbose=2,\n",
    "    random_state=1,\n",
    ")"
   ]
  },
  {
   "cell_type": "code",
   "execution_count": 12,
   "metadata": {},
   "outputs": [
    {
     "name": "stdout",
     "output_type": "stream",
     "text": [
      "|   iter    |  target   |     w     |     x     |     y     |\n",
      "-------------------------------------------------------------\n",
      "| \u001b[39m1        \u001b[39m | \u001b[39m-0.06199 \u001b[39m | \u001b[39m2.085    \u001b[39m | \u001b[39m4.406    \u001b[39m | \u001b[39m-9.998   \u001b[39m |\n",
      "| \u001b[35m2        \u001b[39m | \u001b[35m-0.0344  \u001b[39m | \u001b[35m1.512    \u001b[39m | \u001b[35m-7.065   \u001b[39m | \u001b[35m-8.153   \u001b[39m |\n",
      "| \u001b[39m3        \u001b[39m | \u001b[39m-0.2177  \u001b[39m | \u001b[39m0.9313   \u001b[39m | \u001b[39m-3.089   \u001b[39m | \u001b[39m-2.065   \u001b[39m |\n",
      "| \u001b[35m4        \u001b[39m | \u001b[35m0.1865   \u001b[39m | \u001b[35m2.694    \u001b[39m | \u001b[35m-1.616   \u001b[39m | \u001b[35m3.704    \u001b[39m |\n",
      "| \u001b[39m5        \u001b[39m | \u001b[39m-0.2187  \u001b[39m | \u001b[39m1.022    \u001b[39m | \u001b[39m7.562    \u001b[39m | \u001b[39m-9.452   \u001b[39m |\n",
      "| \u001b[35m6        \u001b[39m | \u001b[35m0.1868   \u001b[39m | \u001b[35m2.533    \u001b[39m | \u001b[35m-1.728   \u001b[39m | \u001b[35m3.815    \u001b[39m |\n",
      "| \u001b[39m7        \u001b[39m | \u001b[39m0.04138  \u001b[39m | \u001b[39m3.494    \u001b[39m | \u001b[39m0.1725   \u001b[39m | \u001b[39m6.707    \u001b[39m |\n",
      "| \u001b[39m8        \u001b[39m | \u001b[39m0.0      \u001b[39m | \u001b[39m4.737    \u001b[39m | \u001b[39m-3.817   \u001b[39m | \u001b[39m4.586    \u001b[39m |\n",
      "| \u001b[39m9        \u001b[39m | \u001b[39m0.1096   \u001b[39m | \u001b[39m1.001    \u001b[39m | \u001b[39m0.7072   \u001b[39m | \u001b[39m3.447    \u001b[39m |\n",
      "| \u001b[39m10       \u001b[39m | \u001b[39m0.04164  \u001b[39m | \u001b[39m4.762    \u001b[39m | \u001b[39m2.874    \u001b[39m | \u001b[39m1.923    \u001b[39m |\n",
      "| \u001b[35m11       \u001b[39m | \u001b[35m0.1892   \u001b[39m | \u001b[35m0.04772  \u001b[39m | \u001b[35m-2.696   \u001b[39m | \u001b[35m6.551    \u001b[39m |\n",
      "| \u001b[35m12       \u001b[39m | \u001b[35m0.2199   \u001b[39m | \u001b[35m0.02389  \u001b[39m | \u001b[35m-5.944   \u001b[39m | \u001b[35m9.5      \u001b[39m |\n",
      "| \u001b[39m13       \u001b[39m | \u001b[39m-0.457   \u001b[39m | \u001b[39m0.07146  \u001b[39m | \u001b[39m-9.618   \u001b[39m | \u001b[39m7.259    \u001b[39m |\n",
      "| \u001b[39m14       \u001b[39m | \u001b[39m0.1358   \u001b[39m | \u001b[39m0.329    \u001b[39m | \u001b[39m-3.351   \u001b[39m | \u001b[39m9.922    \u001b[39m |\n",
      "| \u001b[39m15       \u001b[39m | \u001b[39m0.04341  \u001b[39m | \u001b[39m3.041    \u001b[39m | \u001b[39m-5.183   \u001b[39m | \u001b[39m9.877    \u001b[39m |\n",
      "| \u001b[39m16       \u001b[39m | \u001b[39m0.08249  \u001b[39m | \u001b[39m0.2258   \u001b[39m | \u001b[39m5.954    \u001b[39m | \u001b[39m6.066    \u001b[39m |\n",
      "| \u001b[39m17       \u001b[39m | \u001b[39m0.0943   \u001b[39m | \u001b[39m0.1087   \u001b[39m | \u001b[39m1.653    \u001b[39m | \u001b[39m8.596    \u001b[39m |\n",
      "| \u001b[39m18       \u001b[39m | \u001b[39m0.02195  \u001b[39m | \u001b[39m2.85     \u001b[39m | \u001b[39m6.579    \u001b[39m | \u001b[39m9.923    \u001b[39m |\n",
      "| \u001b[39m19       \u001b[39m | \u001b[39m0.08179  \u001b[39m | \u001b[39m0.03698  \u001b[39m | \u001b[39m9.263    \u001b[39m | \u001b[39m2.291    \u001b[39m |\n",
      "| \u001b[39m20       \u001b[39m | \u001b[39m0.01622  \u001b[39m | \u001b[39m4.217    \u001b[39m | \u001b[39m9.192    \u001b[39m | \u001b[39m4.37     \u001b[39m |\n",
      "| \u001b[35m21       \u001b[39m | \u001b[35m0.2718   \u001b[39m | \u001b[35m0.02731  \u001b[39m | \u001b[35m-4.618   \u001b[39m | \u001b[35m7.787    \u001b[39m |\n",
      "| \u001b[39m22       \u001b[39m | \u001b[39m0.1636   \u001b[39m | \u001b[39m0.01546  \u001b[39m | \u001b[39m5.282    \u001b[39m | \u001b[39m-0.4399  \u001b[39m |\n",
      "| \u001b[39m23       \u001b[39m | \u001b[39m0.05458  \u001b[39m | \u001b[39m2.567    \u001b[39m | \u001b[39m7.691    \u001b[39m | \u001b[39m-1.721   \u001b[39m |\n",
      "| \u001b[39m24       \u001b[39m | \u001b[39m0.0      \u001b[39m | \u001b[39m0.01681  \u001b[39m | \u001b[39m-4.034   \u001b[39m | \u001b[39m4.158    \u001b[39m |\n",
      "| \u001b[39m25       \u001b[39m | \u001b[39m0.1324   \u001b[39m | \u001b[39m0.2598   \u001b[39m | \u001b[39m4.813    \u001b[39m | \u001b[39m2.388    \u001b[39m |\n",
      "| \u001b[39m26       \u001b[39m | \u001b[39m-0.01641 \u001b[39m | \u001b[39m4.777    \u001b[39m | \u001b[39m-1.422   \u001b[39m | \u001b[39m-9.572   \u001b[39m |\n",
      "| \u001b[39m27       \u001b[39m | \u001b[39m0.0      \u001b[39m | \u001b[39m0.5638   \u001b[39m | \u001b[39m3.639    \u001b[39m | \u001b[39m-3.352   \u001b[39m |\n",
      "| \u001b[39m28       \u001b[39m | \u001b[39m-0.01294 \u001b[39m | \u001b[39m4.791    \u001b[39m | \u001b[39m-9.924   \u001b[39m | \u001b[39m-2.469   \u001b[39m |\n",
      "| \u001b[39m29       \u001b[39m | \u001b[39m0.04902  \u001b[39m | \u001b[39m0.06084  \u001b[39m | \u001b[39m9.897    \u001b[39m | \u001b[39m9.765    \u001b[39m |\n",
      "| \u001b[39m30       \u001b[39m | \u001b[39m0.1248   \u001b[39m | \u001b[39m1.479    \u001b[39m | \u001b[39m-3.513   \u001b[39m | \u001b[39m7.389    \u001b[39m |\n",
      "=============================================================\n"
     ]
    }
   ],
   "source": [
    "optimizer.set_gp_params(alpha=1e-3)\n",
    "optimizer.maximize()"
   ]
  },
  {
   "cell_type": "markdown",
   "metadata": {},
   "source": [
    "## 3. Tuning the underlying Gaussian Process\n",
    "\n",
    "The bayesian optimization algorithm works by performing a gaussian process regression of the observed combination of parameters and their associated target values. The predicted parameter $\\rightarrow$ target hyper-surface (and its uncertainty) is then used to guide the next best point to probe."
   ]
  },
  {
   "cell_type": "markdown",
   "metadata": {},
   "source": [
    "### 3.1 Passing parameter to the GP\n",
    "\n",
    "Depending on the problem it could be beneficial to change the default parameters of the underlying GP. You can use the `optimizer.set_gp_params` method to do this:"
   ]
  },
  {
   "cell_type": "code",
   "execution_count": 13,
   "metadata": {},
   "outputs": [
    {
     "name": "stdout",
     "output_type": "stream",
     "text": [
      "|   iter    |  target   |     x     |     y     |\n",
      "-------------------------------------------------\n",
      "| \u001b[39m1        \u001b[39m | \u001b[39m0.7862   \u001b[39m | \u001b[39m-0.3319  \u001b[39m | \u001b[39m1.322    \u001b[39m |\n",
      "| \u001b[39m2        \u001b[39m | \u001b[39m-18.49   \u001b[39m | \u001b[39m1.886    \u001b[39m | \u001b[39m-2.992   \u001b[39m |\n",
      "| \u001b[35m3        \u001b[39m | \u001b[35m0.7911   \u001b[39m | \u001b[35m-0.3176  \u001b[39m | \u001b[35m1.329    \u001b[39m |\n",
      "| \u001b[39m4        \u001b[39m | \u001b[39m-6.173   \u001b[39m | \u001b[39m-1.796   \u001b[39m | \u001b[39m2.987    \u001b[39m |\n",
      "| \u001b[39m5        \u001b[39m | \u001b[39m-2.834   \u001b[39m | \u001b[39m1.502    \u001b[39m | \u001b[39m2.256    \u001b[39m |\n",
      "| \u001b[39m6        \u001b[39m | \u001b[39m-4.831   \u001b[39m | \u001b[39m-1.997   \u001b[39m | \u001b[39m-0.3574  \u001b[39m |\n",
      "=================================================\n"
     ]
    }
   ],
   "source": [
    "optimizer = BayesianOptimization(\n",
    "    f=black_box_function,\n",
    "    pbounds={'x': (-2, 2), 'y': (-3, 3)},\n",
    "    verbose=2,\n",
    "    random_state=1,\n",
    ")\n",
    "optimizer.set_gp_params(alpha=1e-3, n_restarts_optimizer=5)\n",
    "optimizer.maximize(\n",
    "    init_points=1,\n",
    "    n_iter=5\n",
    ")"
   ]
  },
  {
   "cell_type": "markdown",
   "metadata": {},
   "source": [
    "### 3.2 Tuning the `alpha` parameter\n",
    "\n",
    "When dealing with functions with discrete parameters,or particularly erratic target space it might be beneficial to increase the value of the `alpha` parameter. This parameters controls how much noise the GP can handle, so increase it whenever you think that extra flexibility is needed."
   ]
  },
  {
   "attachments": {},
   "cell_type": "markdown",
   "metadata": {},
   "source": [
    "### 3.3 Changing kernels\n",
    "\n",
    "By default this package uses the Matern 2.5 kernel. Depending on your use case you may find that tuning the GP kernel could be beneficial. You're on your own here since these are very specific solutions to very specific problems. You should start with the [scikit learn docs](https://scikit-learn.org/stable/modules/gaussian_process.html#kernels-for-gaussian-processes)."
   ]
  },
  {
   "cell_type": "markdown",
   "metadata": {},
   "source": [
    "## Observers Continued\n",
    "\n",
    "Observers are objects that subscribe and listen to particular events fired by the `BayesianOptimization` object. \n",
    "\n",
    "When an event gets fired a callback function is called with the event and the `BayesianOptimization` instance passed as parameters. The callback can be specified at the time of subscription. If none is given it will look for an `update` method from the observer."
   ]
  },
  {
   "cell_type": "code",
   "execution_count": 14,
   "metadata": {},
   "outputs": [],
   "source": [
    "from bayes_opt.event import DEFAULT_EVENTS, Events"
   ]
  },
  {
   "cell_type": "code",
   "execution_count": 15,
   "metadata": {},
   "outputs": [],
   "source": [
    "optimizer = BayesianOptimization(\n",
    "    f=black_box_function,\n",
    "    pbounds={'x': (-2, 2), 'y': (-3, 3)},\n",
    "    verbose=2,\n",
    "    random_state=1,\n",
    ")"
   ]
  },
  {
   "cell_type": "code",
   "execution_count": 16,
   "metadata": {},
   "outputs": [],
   "source": [
    "class BasicObserver:\n",
    "    def update(self, event, instance):\n",
    "        \"\"\"Does whatever you want with the event and `BayesianOptimization` instance.\"\"\"\n",
    "        print(\"Event `{}` was observed\".format(event))"
   ]
  },
  {
   "cell_type": "code",
   "execution_count": 17,
   "metadata": {},
   "outputs": [],
   "source": [
    "my_observer = BasicObserver()\n",
    "\n",
    "optimizer.subscribe(\n",
    "    event=Events.OPTIMIZATION_STEP,\n",
    "    subscriber=my_observer,\n",
    "    callback=None, # Will use the `update` method as callback\n",
    ")"
   ]
  },
  {
   "cell_type": "markdown",
   "metadata": {},
   "source": [
    "Alternatively you have the option to pass a completely different callback."
   ]
  },
  {
   "cell_type": "code",
   "execution_count": 18,
   "metadata": {},
   "outputs": [],
   "source": [
    "def my_callback(event, instance):\n",
    "    print(\"Go nuts here!\")\n",
    "\n",
    "optimizer.subscribe(\n",
    "    event=Events.OPTIMIZATION_START,\n",
    "    subscriber=\"Any hashable object\",\n",
    "    callback=my_callback,\n",
    ")"
   ]
  },
  {
   "cell_type": "code",
   "execution_count": 19,
   "metadata": {},
   "outputs": [
    {
     "name": "stdout",
     "output_type": "stream",
     "text": [
      "Go nuts here!\n",
      "Event `optimization:step` was observed\n",
      "Event `optimization:step` was observed\n",
      "Event `optimization:step` was observed\n"
     ]
    }
   ],
   "source": [
    "optimizer.maximize(init_points=1, n_iter=2)"
   ]
  },
  {
   "cell_type": "markdown",
   "metadata": {},
   "source": [
    "For a list of all default events you can checkout `DEFAULT_EVENTS`"
   ]
  },
  {
   "cell_type": "code",
   "execution_count": 20,
   "metadata": {},
   "outputs": [
    {
     "data": {
      "text/plain": [
       "['optimization:start', 'optimization:step', 'optimization:end']"
      ]
     },
     "execution_count": 20,
     "metadata": {},
     "output_type": "execute_result"
    }
   ],
   "source": [
    "DEFAULT_EVENTS"
   ]
  }
 ],
 "metadata": {
  "kernelspec": {
   "display_name": "bayesian",
   "language": "python",
   "name": "python3"
  },
  "language_info": {
   "codemirror_mode": {
    "name": "ipython",
    "version": 3
   },
   "file_extension": ".py",
   "mimetype": "text/x-python",
   "name": "python",
   "nbconvert_exporter": "python",
   "pygments_lexer": "ipython3",
   "version": "3.13.0"
  },
  "nbdime-conflicts": {
   "local_diff": [
    {
     "diff": [
      {
       "diff": [
        {
         "key": 0,
         "op": "addrange",
         "valuelist": [
          "3.1.0"
         ]
        },
        {
         "key": 0,
         "length": 1,
         "op": "removerange"
        }
       ],
       "key": "version",
       "op": "patch"
      }
     ],
     "key": "language_info",
     "op": "patch"
    }
   ],
   "remote_diff": [
    {
     "diff": [
      {
       "diff": [
        {
         "key": 0,
         "op": "addrange",
         "valuelist": [
          "3.10.12"
         ]
        },
        {
         "key": 0,
         "length": 1,
         "op": "removerange"
        }
       ],
       "key": "version",
       "op": "patch"
      }
     ],
     "key": "language_info",
     "op": "patch"
    }
   ]
  }
 },
 "nbformat": 4,
 "nbformat_minor": 4
}
